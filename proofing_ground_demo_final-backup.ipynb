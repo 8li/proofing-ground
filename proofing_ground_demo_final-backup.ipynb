{
 "cells": [
  {
   "cell_type": "code",
   "execution_count": 1,
   "metadata": {
    "collapsed": true
   },
   "outputs": [],
   "source": [
    "%load_ext autoreload\n",
    "%autoreload 2\n",
    "\n",
    "import sys\n",
    "import json\n",
    "sys.path.append('code/')\n",
    "\n",
    "import numpy as np\n",
    "import pandas as pd\n",
    "import matplotlib\n",
    "import matplotlib.pyplot as plt\n",
    "\n",
    "import os, binascii, hashlib, base58\n",
    "\n",
    "from parse_config import ConfigDict\n",
    "from balances import Balances\n",
    "from simulation import Simulation\n",
    "\n",
    "pd.set_option('display.max_rows', 20)\n",
    "\n",
    "config = ConfigDict().parse()\n",
    "\n",
    "def print_params(params):\n",
    "    for k,v in params().items():\n",
    "        print(\"{}: {}\".format(k,v))"
   ]
  },
  {
   "cell_type": "markdown",
   "metadata": {},
   "source": [
    "## No initial issuance"
   ]
  },
  {
   "cell_type": "code",
   "execution_count": 2,
   "metadata": {},
   "outputs": [
    {
     "name": "stdout",
     "output_type": "stream",
     "text": [
      "n_users: 10000\n",
      "n_miners_max: 100\n",
      "init_issue: False\n",
      "reward_dist: False\n",
      "reward: 100.0\n",
      "greed_factor: 0.0\n",
      "\n",
      "Gini Coefficient: 0.00\n"
     ]
    },
    {
     "data": {
      "text/html": [
       "<div>\n",
       "<style>\n",
       "    .dataframe thead tr:only-child th {\n",
       "        text-align: right;\n",
       "    }\n",
       "\n",
       "    .dataframe thead th {\n",
       "        text-align: left;\n",
       "    }\n",
       "\n",
       "    .dataframe tbody tr th {\n",
       "        vertical-align: top;\n",
       "    }\n",
       "</style>\n",
       "<table border=\"1\" class=\"dataframe\">\n",
       "  <thead>\n",
       "    <tr style=\"text-align: right;\">\n",
       "      <th></th>\n",
       "      <th>address</th>\n",
       "      <th>greedy</th>\n",
       "      <th>miner</th>\n",
       "      <th>values</th>\n",
       "    </tr>\n",
       "  </thead>\n",
       "  <tbody>\n",
       "    <tr>\n",
       "      <th>0</th>\n",
       "      <td>5KEDurYQ7PBUfRFpWyuVdkxPvXKAYiQGdePmArn9sD8vzL...</td>\n",
       "      <td>False</td>\n",
       "      <td>False</td>\n",
       "      <td>0.0</td>\n",
       "    </tr>\n",
       "    <tr>\n",
       "      <th>1</th>\n",
       "      <td>5JPvPsb6ZTLzRH9j81r6GRiC2Qf5Fnz8ruhgRTip75ZtgD...</td>\n",
       "      <td>False</td>\n",
       "      <td>False</td>\n",
       "      <td>0.0</td>\n",
       "    </tr>\n",
       "    <tr>\n",
       "      <th>2</th>\n",
       "      <td>5HredopLX975rSviybYDJQEpH661gTjdpFDjwYzj7r149v...</td>\n",
       "      <td>False</td>\n",
       "      <td>False</td>\n",
       "      <td>0.0</td>\n",
       "    </tr>\n",
       "    <tr>\n",
       "      <th>3</th>\n",
       "      <td>5Jj4yHYqoro2saTET5F2EuNu3KWj3yycdaKmSwvvZWdtf5...</td>\n",
       "      <td>False</td>\n",
       "      <td>False</td>\n",
       "      <td>0.0</td>\n",
       "    </tr>\n",
       "    <tr>\n",
       "      <th>4</th>\n",
       "      <td>5Jk3zDUArbGFBddqFCuv3Bb1LAqwQftx11idhfpneSNVGs...</td>\n",
       "      <td>False</td>\n",
       "      <td>False</td>\n",
       "      <td>0.0</td>\n",
       "    </tr>\n",
       "  </tbody>\n",
       "</table>\n",
       "</div>"
      ],
      "text/plain": [
       "                                             address  greedy  miner  values\n",
       "0  5KEDurYQ7PBUfRFpWyuVdkxPvXKAYiQGdePmArn9sD8vzL...   False  False     0.0\n",
       "1  5JPvPsb6ZTLzRH9j81r6GRiC2Qf5Fnz8ruhgRTip75ZtgD...   False  False     0.0\n",
       "2  5HredopLX975rSviybYDJQEpH661gTjdpFDjwYzj7r149v...   False  False     0.0\n",
       "3  5Jj4yHYqoro2saTET5F2EuNu3KWj3yycdaKmSwvvZWdtf5...   False  False     0.0\n",
       "4  5Jk3zDUArbGFBddqFCuv3Bb1LAqwQftx11idhfpneSNVGs...   False  False     0.0"
      ]
     },
     "execution_count": 2,
     "metadata": {},
     "output_type": "execute_result"
    }
   ],
   "source": [
    "b = Balances(**config['default'])\n",
    "print_params(b.params)\n",
    "print(\"\\nGini Coefficient: {:0.2f}\".format(b.gini()))\n",
    "b.data.head()"
   ]
  },
  {
   "cell_type": "markdown",
   "metadata": {},
   "source": [
    "## Fair initial issuance"
   ]
  },
  {
   "cell_type": "code",
   "execution_count": 3,
   "metadata": {},
   "outputs": [
    {
     "name": "stdout",
     "output_type": "stream",
     "text": [
      "n_users: 10000\n",
      "n_miners_max: 100\n",
      "init_issue: True\n",
      "reward_dist: False\n",
      "reward: 100.0\n",
      "greed_factor: 0.05\n",
      "init_issue_total: 1000000.0\n",
      "init_issue_max: 500.0\n",
      "init_issue_users: 9900\n",
      "\n",
      "Gini Coefficient: 0.49\n"
     ]
    },
    {
     "data": {
      "text/html": [
       "<div>\n",
       "<style>\n",
       "    .dataframe thead tr:only-child th {\n",
       "        text-align: right;\n",
       "    }\n",
       "\n",
       "    .dataframe thead th {\n",
       "        text-align: left;\n",
       "    }\n",
       "\n",
       "    .dataframe tbody tr th {\n",
       "        vertical-align: top;\n",
       "    }\n",
       "</style>\n",
       "<table border=\"1\" class=\"dataframe\">\n",
       "  <thead>\n",
       "    <tr style=\"text-align: right;\">\n",
       "      <th></th>\n",
       "      <th>address</th>\n",
       "      <th>greedy</th>\n",
       "      <th>miner</th>\n",
       "      <th>values</th>\n",
       "    </tr>\n",
       "  </thead>\n",
       "  <tbody>\n",
       "    <tr>\n",
       "      <th>0</th>\n",
       "      <td>5JsDyLKpbeLGv6C4q7F57BKn7pgDvnMueXTfMrzUKSmZCp...</td>\n",
       "      <td>False</td>\n",
       "      <td>False</td>\n",
       "      <td>45.736342</td>\n",
       "    </tr>\n",
       "    <tr>\n",
       "      <th>1</th>\n",
       "      <td>5KZTaHo9xtnELWYhKAoL4F5FKUd1wxZ21S6LP1QPn16L9j...</td>\n",
       "      <td>False</td>\n",
       "      <td>False</td>\n",
       "      <td>104.444393</td>\n",
       "    </tr>\n",
       "    <tr>\n",
       "      <th>2</th>\n",
       "      <td>5KQb6huHo1anjyK4Le4NLZuydY3A9FZKN2TvoJjtosCe4W...</td>\n",
       "      <td>False</td>\n",
       "      <td>False</td>\n",
       "      <td>98.043808</td>\n",
       "    </tr>\n",
       "    <tr>\n",
       "      <th>3</th>\n",
       "      <td>5Hphf2dbF8oq1cnFUXNkGrszjEosZFGRUwiuSwjvhgjEoZ...</td>\n",
       "      <td>False</td>\n",
       "      <td>False</td>\n",
       "      <td>96.957623</td>\n",
       "    </tr>\n",
       "    <tr>\n",
       "      <th>4</th>\n",
       "      <td>5KjNSCJ8ExqMp7d7pMpYgCmrSai3sYpqqWNtAw8kHVSQF3...</td>\n",
       "      <td>False</td>\n",
       "      <td>False</td>\n",
       "      <td>49.381995</td>\n",
       "    </tr>\n",
       "  </tbody>\n",
       "</table>\n",
       "</div>"
      ],
      "text/plain": [
       "                                             address  greedy  miner  \\\n",
       "0  5JsDyLKpbeLGv6C4q7F57BKn7pgDvnMueXTfMrzUKSmZCp...   False  False   \n",
       "1  5KZTaHo9xtnELWYhKAoL4F5FKUd1wxZ21S6LP1QPn16L9j...   False  False   \n",
       "2  5KQb6huHo1anjyK4Le4NLZuydY3A9FZKN2TvoJjtosCe4W...   False  False   \n",
       "3  5Hphf2dbF8oq1cnFUXNkGrszjEosZFGRUwiuSwjvhgjEoZ...   False  False   \n",
       "4  5KjNSCJ8ExqMp7d7pMpYgCmrSai3sYpqqWNtAw8kHVSQF3...   False  False   \n",
       "\n",
       "       values  \n",
       "0   45.736342  \n",
       "1  104.444393  \n",
       "2   98.043808  \n",
       "3   96.957623  \n",
       "4   49.381995  "
      ]
     },
     "execution_count": 3,
     "metadata": {},
     "output_type": "execute_result"
    }
   ],
   "source": [
    "b = Balances(**config['init_issue_fair_greedy'])\n",
    "print_params(b.params)\n",
    "print(\"\\nGini Coefficient: {:0.2f}\".format(b.gini()))\n",
    "b.data.head()"
   ]
  },
  {
   "cell_type": "markdown",
   "metadata": {},
   "source": [
    "## Real initial issuance"
   ]
  },
  {
   "cell_type": "code",
   "execution_count": 4,
   "metadata": {},
   "outputs": [
    {
     "name": "stdout",
     "output_type": "stream",
     "text": [
      "n_users: 10000\n",
      "n_miners_max: 100\n",
      "init_issue: True\n",
      "reward_dist: False\n",
      "reward: 100.0\n",
      "greed_factor: 0.05\n",
      "init_issue_total: 1000000.0\n",
      "init_issue_max: 50000.0\n",
      "init_issue_users: 1000\n",
      "\n",
      "Gini Coefficient: 0.95\n"
     ]
    },
    {
     "data": {
      "text/html": [
       "<div>\n",
       "<style>\n",
       "    .dataframe thead tr:only-child th {\n",
       "        text-align: right;\n",
       "    }\n",
       "\n",
       "    .dataframe thead th {\n",
       "        text-align: left;\n",
       "    }\n",
       "\n",
       "    .dataframe tbody tr th {\n",
       "        vertical-align: top;\n",
       "    }\n",
       "</style>\n",
       "<table border=\"1\" class=\"dataframe\">\n",
       "  <thead>\n",
       "    <tr style=\"text-align: right;\">\n",
       "      <th></th>\n",
       "      <th>address</th>\n",
       "      <th>greedy</th>\n",
       "      <th>miner</th>\n",
       "      <th>values</th>\n",
       "    </tr>\n",
       "  </thead>\n",
       "  <tbody>\n",
       "    <tr>\n",
       "      <th>0</th>\n",
       "      <td>5JAHjxtFzZdgarZMzKW5UEwJGuuB8n6JHpsjYS9Rcowj1u...</td>\n",
       "      <td>False</td>\n",
       "      <td>False</td>\n",
       "      <td>230.900982</td>\n",
       "    </tr>\n",
       "    <tr>\n",
       "      <th>1</th>\n",
       "      <td>5Jx7BFcSf8vgCazgpxJtwHnb5uwB8SZsJLecUF9nGuJdD4...</td>\n",
       "      <td>False</td>\n",
       "      <td>False</td>\n",
       "      <td>0.000000</td>\n",
       "    </tr>\n",
       "    <tr>\n",
       "      <th>2</th>\n",
       "      <td>5JPPCzPJrMmwmNMhmiN4cawfSzwPkgni1hYtzL6zMRrzvx...</td>\n",
       "      <td>False</td>\n",
       "      <td>False</td>\n",
       "      <td>0.000000</td>\n",
       "    </tr>\n",
       "    <tr>\n",
       "      <th>3</th>\n",
       "      <td>5JxPb9bdWn78mZkFUgxG6Y96mAD1UoDU3Tt3Lbzt67kejc...</td>\n",
       "      <td>False</td>\n",
       "      <td>False</td>\n",
       "      <td>0.000000</td>\n",
       "    </tr>\n",
       "    <tr>\n",
       "      <th>4</th>\n",
       "      <td>5J6UdMpfaLxHECKNQVXuUpseosKqhTA9zprtwPSjpPFuKA...</td>\n",
       "      <td>False</td>\n",
       "      <td>False</td>\n",
       "      <td>0.000000</td>\n",
       "    </tr>\n",
       "  </tbody>\n",
       "</table>\n",
       "</div>"
      ],
      "text/plain": [
       "                                             address  greedy  miner  \\\n",
       "0  5JAHjxtFzZdgarZMzKW5UEwJGuuB8n6JHpsjYS9Rcowj1u...   False  False   \n",
       "1  5Jx7BFcSf8vgCazgpxJtwHnb5uwB8SZsJLecUF9nGuJdD4...   False  False   \n",
       "2  5JPPCzPJrMmwmNMhmiN4cawfSzwPkgni1hYtzL6zMRrzvx...   False  False   \n",
       "3  5JxPb9bdWn78mZkFUgxG6Y96mAD1UoDU3Tt3Lbzt67kejc...   False  False   \n",
       "4  5J6UdMpfaLxHECKNQVXuUpseosKqhTA9zprtwPSjpPFuKA...   False  False   \n",
       "\n",
       "       values  \n",
       "0  230.900982  \n",
       "1    0.000000  \n",
       "2    0.000000  \n",
       "3    0.000000  \n",
       "4    0.000000  "
      ]
     },
     "execution_count": 4,
     "metadata": {},
     "output_type": "execute_result"
    }
   ],
   "source": [
    "b = Balances(**config['init_issue_real_greedy'])\n",
    "print_params(b.params)\n",
    "print(\"\\nGini Coefficient: {:0.2f}\".format(b.gini()))\n",
    "b.data.head()"
   ]
  },
  {
   "cell_type": "markdown",
   "metadata": {},
   "source": [
    "## Simulation experiments on greed"
   ]
  },
  {
   "cell_type": "code",
   "execution_count": 5,
   "metadata": {
    "scrolled": false
   },
   "outputs": [
    {
     "name": "stdout",
     "output_type": "stream",
     "text": [
      "No initial issuance\t\t0.00000\t\t0.56037\t\t0.13655\n",
      "Distributed initial issuance\t\t0.48740\t\t0.54690\t\t0.15993\n",
      "Concentrated initial issuance\t\t0.94846\t\t0.54622\t\t0.15950\n"
     ]
    }
   ],
   "source": [
    "config = ConfigDict().parse()\n",
    "init_states = { 'default': \"No initial issuance\",\n",
    "                'init_issue_dist': \"Distributed initial issuance\",\n",
    "                'init_issue_conc': \"Concentrated initial issuance\" }\n",
    "greed_factor = { 'greedy': 0.05,\n",
    "                 'no_greed': 0, }\n",
    "\n",
    "exps = []\n",
    "g_init = []\n",
    "data = {}\n",
    "g_all = {}\n",
    "\n",
    "for init_key in init_states.keys():\n",
    "    s = Simulation(balances = Balances(**config[init_key]), **config[init_key])\n",
    "    g_init.append(s.balances.gini(initial=True) \n",
    "\n",
    "    for greed_key in greed_factor.keys():\n",
    "        exp_key = '{}_{}'.format(init_key, greed_key)\n",
    "        exps.append(exp_key)\n",
    "        s.balances.greed_factor = greed_factor[greed_key]\n",
    "        s.balances.reinit()\n",
    "\n",
    "        # print_params(s.balances.params)\n",
    "        # print_params(s.params)\n",
    "        \n",
    "        (tx_data, g) = s.simulate()\n",
    "        \n",
    "        data[exp_key] = tx_data\n",
    "        g_all[exp_key] = g.copy()\n",
    "\n",
    "    \n",
    "    print(\"{}\\t\\t{:.5f}\\t\\t{:.5f}\\t\\t{:.5f}\".format(init_states[init_key], \n",
    "                                                    s.balances.gini(initial=True), \n",
    "                                                    np.mean(g_all['{}_greedy'.format(init_key)]), \n",
    "                                                    np.mean(g_all['{}_no_greed'.format(init_key)])))\n"
   ]
  },
  {
   "cell_type": "code",
   "execution_count": 19,
   "metadata": {},
   "outputs": [
    {
     "data": {
      "image/png": "[encoded data removed]",
      "text/plain": [
       "<matplotlib.figure.Figure at 0x119d97c18>"
      ]
     },
     "metadata": {},
     "output_type": "display_data"
    }
   ],
   "source": [
    "# histograms of simulation results\n",
    "plt.close()\n",
    "fig, axs = plt.subplots(3,2)\n",
    "g_init = [ 0.0, 0.48740, 0.94846]\n",
    "\n",
    "for ax_row, g_i, init_key in zip(axs, g_init, init_states.keys()):\n",
    "    ax_row[0].set_ylabel(r'$N_{experiments}$')\n",
    "    for ax, greed_key in zip(ax_row, greed_factor.keys()):\n",
    "        exp = '{}_{}'.format(init_key, greed_key)\n",
    "        ax.hist(g_all[exp], bins=np.arange(0.,1.,0.05))\n",
    "        ax.set_title(exp)\n",
    "        ax.axvline(x=g_i, color='r')\n",
    "        \n",
    "# xlabels\n",
    "for ax in axs[2]:\n",
    "    ax.set_xlabel('Gini Coeff')\n",
    "    \n",
    "plt.tight_layout()\n",
    "plt.show()"
   ]
  }
 ],
 "metadata": {
  "kernelspec": {
   "display_name": "Python 3",
   "language": "python",
   "name": "python3"
  },
  "language_info": {
   "codemirror_mode": {
    "name": "ipython",
    "version": 3
   },
   "file_extension": ".py",
   "mimetype": "text/x-python",
   "name": "python",
   "nbconvert_exporter": "python",
   "pygments_lexer": "ipython3",
   "version": "3.6.1"
  }
 },
 "nbformat": 4,
 "nbformat_minor": 2
}
