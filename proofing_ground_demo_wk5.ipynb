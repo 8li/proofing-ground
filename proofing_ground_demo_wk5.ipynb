{
 "cells": [
  {
   "cell_type": "code",
   "execution_count": 1,
   "metadata": {},
   "outputs": [],
   "source": [
    "%load_ext autoreload\n",
    "%autoreload 2\n",
    "\n",
    "import sys\n",
    "import json\n",
    "sys.path.append('code/')\n",
    "\n",
    "import numpy as np\n",
    "import pandas as pd\n",
    "import matplotlib\n",
    "import matplotlib.pyplot as plt\n",
    "\n",
    "import os, binascii, hashlib, base58\n",
    "\n",
    "from parse_config import ConfigDict\n",
    "from balances import Balances\n",
    "from simulation import Simulation\n",
    "\n",
    "pd.set_option('display.max_rows', 20)\n",
    "\n",
    "config = ConfigDict().parse()\n",
    "\n",
    "def print_params(params):\n",
    "    for k,v in params().items():\n",
    "        print(\"{}: {}\".format(k,v))"
   ]
  },
  {
   "cell_type": "markdown",
   "metadata": {},
   "source": [
    "## No initial issuance"
   ]
  },
  {
   "cell_type": "code",
   "execution_count": 2,
   "metadata": {},
   "outputs": [
    {
     "name": "stdout",
     "output_type": "stream",
     "text": [
      "n_users: 10000\n",
      "n_miners_max: 100\n",
      "init_issue: False\n",
      "reward_dist: False\n",
      "reward: 100.0\n",
      "greed_factor: 0.05\n",
      "\n",
      "Gini Coefficient: 0.00\n"
     ]
    },
    {
     "data": {
      "text/html": [
       "<div>\n",
       "<style>\n",
       "    .dataframe thead tr:only-child th {\n",
       "        text-align: right;\n",
       "    }\n",
       "\n",
       "    .dataframe thead th {\n",
       "        text-align: left;\n",
       "    }\n",
       "\n",
       "    .dataframe tbody tr th {\n",
       "        vertical-align: top;\n",
       "    }\n",
       "</style>\n",
       "<table border=\"1\" class=\"dataframe\">\n",
       "  <thead>\n",
       "    <tr style=\"text-align: right;\">\n",
       "      <th></th>\n",
       "      <th>address</th>\n",
       "      <th>greedy</th>\n",
       "      <th>miner</th>\n",
       "      <th>values</th>\n",
       "    </tr>\n",
       "  </thead>\n",
       "  <tbody>\n",
       "    <tr>\n",
       "      <th>0</th>\n",
       "      <td>5JTQxreLncjNYaZPEhaWao6XKVMQYyfFSba9StooVr1J3p...</td>\n",
       "      <td>False</td>\n",
       "      <td>False</td>\n",
       "      <td>0.0</td>\n",
       "    </tr>\n",
       "    <tr>\n",
       "      <th>1</th>\n",
       "      <td>5Jc8ECBLYV2w2Lanvqg3PTRVcm9Ed8zD9G1hW2y1pc9vzk...</td>\n",
       "      <td>False</td>\n",
       "      <td>False</td>\n",
       "      <td>0.0</td>\n",
       "    </tr>\n",
       "    <tr>\n",
       "      <th>2</th>\n",
       "      <td>5KZsf4Q6auTB9ub5sGovY3tu29561M83ATRs78p8ZarQGS...</td>\n",
       "      <td>False</td>\n",
       "      <td>False</td>\n",
       "      <td>0.0</td>\n",
       "    </tr>\n",
       "    <tr>\n",
       "      <th>3</th>\n",
       "      <td>5JxjCeY2a82avYwDC3gag9bAzs6PpyL52WnsnxMtDki58P...</td>\n",
       "      <td>False</td>\n",
       "      <td>False</td>\n",
       "      <td>0.0</td>\n",
       "    </tr>\n",
       "    <tr>\n",
       "      <th>4</th>\n",
       "      <td>5KV5hJ6P1iJNJ7GjHHA3mLeQ9Gss2XeT2ZZuvmNfYBhGHb...</td>\n",
       "      <td>False</td>\n",
       "      <td>False</td>\n",
       "      <td>0.0</td>\n",
       "    </tr>\n",
       "  </tbody>\n",
       "</table>\n",
       "</div>"
      ],
      "text/plain": [
       "                                             address  greedy  miner  values\n",
       "0  5JTQxreLncjNYaZPEhaWao6XKVMQYyfFSba9StooVr1J3p...   False  False     0.0\n",
       "1  5Jc8ECBLYV2w2Lanvqg3PTRVcm9Ed8zD9G1hW2y1pc9vzk...   False  False     0.0\n",
       "2  5KZsf4Q6auTB9ub5sGovY3tu29561M83ATRs78p8ZarQGS...   False  False     0.0\n",
       "3  5JxjCeY2a82avYwDC3gag9bAzs6PpyL52WnsnxMtDki58P...   False  False     0.0\n",
       "4  5KV5hJ6P1iJNJ7GjHHA3mLeQ9Gss2XeT2ZZuvmNfYBhGHb...   False  False     0.0"
      ]
     },
     "execution_count": 2,
     "metadata": {},
     "output_type": "execute_result"
    }
   ],
   "source": [
    "b = Balances(**config['default'])\n",
    "print_params(b.params)\n",
    "print(\"\\nGini Coefficient: {:0.2f}\".format(b.gini()))\n",
    "b.data.head()"
   ]
  },
  {
   "cell_type": "markdown",
   "metadata": {},
   "source": [
    "## Fair initial issuance"
   ]
  },
  {
   "cell_type": "code",
   "execution_count": 3,
   "metadata": {},
   "outputs": [
    {
     "name": "stdout",
     "output_type": "stream",
     "text": [
      "n_users: 10000\n",
      "n_miners_max: 100\n",
      "init_issue: True\n",
      "reward_dist: False\n",
      "reward: 100.0\n",
      "greed_factor: 0.05\n",
      "init_issue_total: 1000000.0\n",
      "init_issue_max: 500.0\n",
      "init_issue_users: 9900\n",
      "\n",
      "Gini Coefficient: 0.49\n"
     ]
    },
    {
     "data": {
      "text/html": [
       "<div>\n",
       "<style>\n",
       "    .dataframe thead tr:only-child th {\n",
       "        text-align: right;\n",
       "    }\n",
       "\n",
       "    .dataframe thead th {\n",
       "        text-align: left;\n",
       "    }\n",
       "\n",
       "    .dataframe tbody tr th {\n",
       "        vertical-align: top;\n",
       "    }\n",
       "</style>\n",
       "<table border=\"1\" class=\"dataframe\">\n",
       "  <thead>\n",
       "    <tr style=\"text-align: right;\">\n",
       "      <th></th>\n",
       "      <th>address</th>\n",
       "      <th>greedy</th>\n",
       "      <th>miner</th>\n",
       "      <th>values</th>\n",
       "    </tr>\n",
       "  </thead>\n",
       "  <tbody>\n",
       "    <tr>\n",
       "      <th>0</th>\n",
       "      <td>5K6ETxT1ztqxaedt78bM5wv4pBWa4aS5pw9NwycJT4R9wx...</td>\n",
       "      <td>False</td>\n",
       "      <td>False</td>\n",
       "      <td>14.788049</td>\n",
       "    </tr>\n",
       "    <tr>\n",
       "      <th>1</th>\n",
       "      <td>5Jfr6jWpbPPoyzbF5SCD4KF5ynG7rFtxU5ozNCGmFMYgG7...</td>\n",
       "      <td>False</td>\n",
       "      <td>False</td>\n",
       "      <td>23.711492</td>\n",
       "    </tr>\n",
       "    <tr>\n",
       "      <th>2</th>\n",
       "      <td>5K1Wf8kwMGQYKku94HEzKZKNfbr34JmeR9jxaYy41at7bX...</td>\n",
       "      <td>False</td>\n",
       "      <td>False</td>\n",
       "      <td>71.339273</td>\n",
       "    </tr>\n",
       "    <tr>\n",
       "      <th>3</th>\n",
       "      <td>5KNJU3cYXrNM4Y2KGnJgARZdKvkGJEWys7Yis4UHhxkPPD...</td>\n",
       "      <td>False</td>\n",
       "      <td>False</td>\n",
       "      <td>85.287527</td>\n",
       "    </tr>\n",
       "    <tr>\n",
       "      <th>4</th>\n",
       "      <td>5K9ivuU5it14mmWvZC1NnwzRZZtiVrGBCDHjxd7UhGBTUK...</td>\n",
       "      <td>False</td>\n",
       "      <td>False</td>\n",
       "      <td>32.297598</td>\n",
       "    </tr>\n",
       "  </tbody>\n",
       "</table>\n",
       "</div>"
      ],
      "text/plain": [
       "                                             address  greedy  miner     values\n",
       "0  5K6ETxT1ztqxaedt78bM5wv4pBWa4aS5pw9NwycJT4R9wx...   False  False  14.788049\n",
       "1  5Jfr6jWpbPPoyzbF5SCD4KF5ynG7rFtxU5ozNCGmFMYgG7...   False  False  23.711492\n",
       "2  5K1Wf8kwMGQYKku94HEzKZKNfbr34JmeR9jxaYy41at7bX...   False  False  71.339273\n",
       "3  5KNJU3cYXrNM4Y2KGnJgARZdKvkGJEWys7Yis4UHhxkPPD...   False  False  85.287527\n",
       "4  5K9ivuU5it14mmWvZC1NnwzRZZtiVrGBCDHjxd7UhGBTUK...   False  False  32.297598"
      ]
     },
     "execution_count": 3,
     "metadata": {},
     "output_type": "execute_result"
    }
   ],
   "source": [
    "b = Balances(**config['init_issue_fair_greedy'])\n",
    "print_params(b.params)\n",
    "print(\"\\nGini Coefficient: {:0.2f}\".format(b.gini()))\n",
    "b.data.head()"
   ]
  },
  {
   "cell_type": "markdown",
   "metadata": {},
   "source": [
    "## Real initial issuance"
   ]
  },
  {
   "cell_type": "code",
   "execution_count": 4,
   "metadata": {},
   "outputs": [
    {
     "name": "stdout",
     "output_type": "stream",
     "text": [
      "n_users: 10000\n",
      "n_miners_max: 100\n",
      "init_issue: True\n",
      "reward_dist: False\n",
      "reward: 100.0\n",
      "greed_factor: 0.05\n",
      "init_issue_total: 1000000.0\n",
      "init_issue_max: 50000.0\n",
      "init_issue_users: 1000\n",
      "\n",
      "Gini Coefficient: 0.95\n"
     ]
    },
    {
     "data": {
      "text/html": [
       "<div>\n",
       "<style>\n",
       "    .dataframe thead tr:only-child th {\n",
       "        text-align: right;\n",
       "    }\n",
       "\n",
       "    .dataframe thead th {\n",
       "        text-align: left;\n",
       "    }\n",
       "\n",
       "    .dataframe tbody tr th {\n",
       "        vertical-align: top;\n",
       "    }\n",
       "</style>\n",
       "<table border=\"1\" class=\"dataframe\">\n",
       "  <thead>\n",
       "    <tr style=\"text-align: right;\">\n",
       "      <th></th>\n",
       "      <th>address</th>\n",
       "      <th>greedy</th>\n",
       "      <th>miner</th>\n",
       "      <th>values</th>\n",
       "    </tr>\n",
       "  </thead>\n",
       "  <tbody>\n",
       "    <tr>\n",
       "      <th>0</th>\n",
       "      <td>5KaRdsbPz1KNebBNKFUQyiQuC2iT1SV1w1Zi6RLaM1UZfo...</td>\n",
       "      <td>False</td>\n",
       "      <td>False</td>\n",
       "      <td>0.0</td>\n",
       "    </tr>\n",
       "    <tr>\n",
       "      <th>1</th>\n",
       "      <td>5HuH4kVb4JWzKmBad29SgKdKpmq2aeq5i5m1Awd1oUTNLV...</td>\n",
       "      <td>False</td>\n",
       "      <td>False</td>\n",
       "      <td>0.0</td>\n",
       "    </tr>\n",
       "    <tr>\n",
       "      <th>2</th>\n",
       "      <td>5KhyLq7af56Fz2fVc8yb1hBwBUdTx1DtR9koVFEBK7LNQ5...</td>\n",
       "      <td>False</td>\n",
       "      <td>False</td>\n",
       "      <td>0.0</td>\n",
       "    </tr>\n",
       "    <tr>\n",
       "      <th>3</th>\n",
       "      <td>5HxcxMnbuMfoTs7m4S6MLWEUsKCpSo8hN2o1D2hhnVGYDU...</td>\n",
       "      <td>False</td>\n",
       "      <td>False</td>\n",
       "      <td>0.0</td>\n",
       "    </tr>\n",
       "    <tr>\n",
       "      <th>4</th>\n",
       "      <td>5KSeZPTFXxTU69doY1NrHhaEGbbwdvrqYnD254U1bkyEgM...</td>\n",
       "      <td>False</td>\n",
       "      <td>False</td>\n",
       "      <td>0.0</td>\n",
       "    </tr>\n",
       "  </tbody>\n",
       "</table>\n",
       "</div>"
      ],
      "text/plain": [
       "                                             address  greedy  miner  values\n",
       "0  5KaRdsbPz1KNebBNKFUQyiQuC2iT1SV1w1Zi6RLaM1UZfo...   False  False     0.0\n",
       "1  5HuH4kVb4JWzKmBad29SgKdKpmq2aeq5i5m1Awd1oUTNLV...   False  False     0.0\n",
       "2  5KhyLq7af56Fz2fVc8yb1hBwBUdTx1DtR9koVFEBK7LNQ5...   False  False     0.0\n",
       "3  5HxcxMnbuMfoTs7m4S6MLWEUsKCpSo8hN2o1D2hhnVGYDU...   False  False     0.0\n",
       "4  5KSeZPTFXxTU69doY1NrHhaEGbbwdvrqYnD254U1bkyEgM...   False  False     0.0"
      ]
     },
     "execution_count": 4,
     "metadata": {},
     "output_type": "execute_result"
    }
   ],
   "source": [
    "b = Balances(**config['init_issue_real_greedy'])\n",
    "print_params(b.params)\n",
    "print(\"\\nGini Coefficient: {:0.2f}\".format(b.gini()))\n",
    "b.data.head()"
   ]
  },
  {
   "cell_type": "markdown",
   "metadata": {},
   "source": [
    "## Simulation experiments on greed"
   ]
  },
  {
   "cell_type": "code",
   "execution_count": null,
   "metadata": {},
   "outputs": [
    {
     "name": "stdout",
     "output_type": "stream",
     "text": [
      "No initial issuance, with greed\t\t0.000\t\t0.234\n",
      "No initial issuance, no greed\t\t0.000\t\t0.151\n",
      "Fair initial issuance, with greed\t\t0.495\t\t0.247\n"
     ]
    }
   ],
   "source": [
    "config = ConfigDict().parse()\n",
    "fig, axs = plt.subplots(2,3)\n",
    "exp_states = {'default': \"No initial issuance, with greed\",\n",
    "              'no_greed': \"No initial issuance, no greed\",\n",
    "              'init_issue_fair_greedy': \"Fair initial issuance, with greed\",\n",
    "              'init_issue_fair_alt': \"Fair inital issuance, no greed\",\n",
    "              'init_issue_real_greedy': \"Real initial issuance, with greed\", \n",
    "              'init_issue_real_alt' : \"Fair initial issuance, no greed\" }\n",
    "g = []\n",
    "g_init = []\n",
    "for exp_key in exp_states.keys():\n",
    "    s = Simulation(balances=Balances(**config[exp_key]))\n",
    "    g_data = s.simulate()\n",
    "    g.append(g_data)\n",
    "    g_init.append(s.balances.gini(initial=True))\n",
    "    print(\"{}\\t\\t{:.3f}\\t\\t{:.3f}\".format(exp_states[exp_key], s.balances.gini(initial=True), np.mean(g_data)))"
   ]
  },
  {
   "cell_type": "code",
   "execution_count": null,
   "metadata": {
    "collapsed": true
   },
   "outputs": [],
   "source": [
    "for x, ax in zip(g, axs):\n",
    "    ax.hist(g= bins=np.arange(0.,1.,0.05))"
   ]
  },
  {
   "cell_type": "code",
   "execution_count": null,
   "metadata": {
    "collapsed": true
   },
   "outputs": [],
   "source": []
  }
 ],
 "metadata": {
  "kernelspec": {
   "display_name": "Python 3",
   "language": "python",
   "name": "python3"
  },
  "language_info": {
   "codemirror_mode": {
    "name": "ipython",
    "version": 3
   },
   "file_extension": ".py",
   "mimetype": "text/x-python",
   "name": "python",
   "nbconvert_exporter": "python",
   "pygments_lexer": "ipython3",
   "version": "3.6.1"
  }
 },
 "nbformat": 4,
 "nbformat_minor": 2
}
