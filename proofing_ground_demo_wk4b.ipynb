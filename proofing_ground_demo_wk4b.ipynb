{
 "cells": [
  {
   "cell_type": "code",
   "execution_count": 1,
   "metadata": {},
   "outputs": [],
   "source": [
    "%load_ext autoreload\n",
    "%autoreload 2\n",
    "\n",
    "import sys\n",
    "import json\n",
    "sys.path.append('code/')\n",
    "\n",
    "import numpy as np\n",
    "import pandas as pd\n",
    "import matplotlib\n",
    "import matplotlib.pyplot as plt\n",
    "\n",
    "import os, binascii, hashlib, base58\n",
    "\n",
    "from parse_config import ConfigDict\n",
    "from balances import Balances\n",
    "from simulation import Simulation\n",
    "\n",
    "pd.set_option('display.max_rows', 20)\n",
    "\n",
    "config = ConfigDict().parse()\n",
    "\n",
    "def print_params(params):\n",
    "    for k,v in params().items():\n",
    "        print(\"{}: {}\".format(k,v))"
   ]
  },
  {
   "cell_type": "markdown",
   "metadata": {},
   "source": [
    "## No initial issuance"
   ]
  },
  {
   "cell_type": "code",
   "execution_count": 2,
   "metadata": {},
   "outputs": [
    {
     "name": "stdout",
     "output_type": "stream",
     "text": [
      "n_users: 10000\n",
      "n_miners_max: 100\n",
      "init_issue: False\n",
      "reward_dist: False\n",
      "reward: 100.0\n",
      "greed_factor: 0.05\n",
      "\n",
      "Gini Coefficient: 0.00\n"
     ]
    },
    {
     "data": {
      "text/html": [
       "<div>\n",
       "<style>\n",
       "    .dataframe thead tr:only-child th {\n",
       "        text-align: right;\n",
       "    }\n",
       "\n",
       "    .dataframe thead th {\n",
       "        text-align: left;\n",
       "    }\n",
       "\n",
       "    .dataframe tbody tr th {\n",
       "        vertical-align: top;\n",
       "    }\n",
       "</style>\n",
       "<table border=\"1\" class=\"dataframe\">\n",
       "  <thead>\n",
       "    <tr style=\"text-align: right;\">\n",
       "      <th></th>\n",
       "      <th>address</th>\n",
       "      <th>greedy</th>\n",
       "      <th>miner</th>\n",
       "      <th>values</th>\n",
       "    </tr>\n",
       "  </thead>\n",
       "  <tbody>\n",
       "    <tr>\n",
       "      <th>0</th>\n",
       "      <td>5KA9hij6LhESJDNHxftSjDNZ6o9TUeFU7ZCVpPBtqk9N2J...</td>\n",
       "      <td>False</td>\n",
       "      <td>False</td>\n",
       "      <td>0.0</td>\n",
       "    </tr>\n",
       "    <tr>\n",
       "      <th>1</th>\n",
       "      <td>5K6iKF7tdJrdR1tHjRJbXtKrR5r14FnusxZ227coR5Zqdj...</td>\n",
       "      <td>False</td>\n",
       "      <td>False</td>\n",
       "      <td>0.0</td>\n",
       "    </tr>\n",
       "    <tr>\n",
       "      <th>2</th>\n",
       "      <td>5KQTiVfZHnks9gyq2QFMvRDmuro1wVu2GMYkV7mH84B4xJ...</td>\n",
       "      <td>False</td>\n",
       "      <td>False</td>\n",
       "      <td>0.0</td>\n",
       "    </tr>\n",
       "    <tr>\n",
       "      <th>3</th>\n",
       "      <td>5J23y3PxsCQaD8KPS3SkijgmEnw3V6yXPMzuL9P1xd511S...</td>\n",
       "      <td>False</td>\n",
       "      <td>False</td>\n",
       "      <td>0.0</td>\n",
       "    </tr>\n",
       "    <tr>\n",
       "      <th>4</th>\n",
       "      <td>5Hz3Kop1s2tEWKR3nug9PK2pnxZ4GWMbbmV3nV3Unbn8ch...</td>\n",
       "      <td>False</td>\n",
       "      <td>False</td>\n",
       "      <td>0.0</td>\n",
       "    </tr>\n",
       "  </tbody>\n",
       "</table>\n",
       "</div>"
      ],
      "text/plain": [
       "                                             address  greedy  miner  values\n",
       "0  5KA9hij6LhESJDNHxftSjDNZ6o9TUeFU7ZCVpPBtqk9N2J...   False  False     0.0\n",
       "1  5K6iKF7tdJrdR1tHjRJbXtKrR5r14FnusxZ227coR5Zqdj...   False  False     0.0\n",
       "2  5KQTiVfZHnks9gyq2QFMvRDmuro1wVu2GMYkV7mH84B4xJ...   False  False     0.0\n",
       "3  5J23y3PxsCQaD8KPS3SkijgmEnw3V6yXPMzuL9P1xd511S...   False  False     0.0\n",
       "4  5Hz3Kop1s2tEWKR3nug9PK2pnxZ4GWMbbmV3nV3Unbn8ch...   False  False     0.0"
      ]
     },
     "execution_count": 2,
     "metadata": {},
     "output_type": "execute_result"
    }
   ],
   "source": [
    "b = Balances(**config['default'])\n",
    "print_params(b.params)\n",
    "print(\"\\nGini Coefficient: {:0.2f}\".format(b.gini()))\n",
    "b.data.head()"
   ]
  },
  {
   "cell_type": "markdown",
   "metadata": {},
   "source": [
    "## Fair initial issuance"
   ]
  },
  {
   "cell_type": "code",
   "execution_count": 3,
   "metadata": {},
   "outputs": [
    {
     "name": "stdout",
     "output_type": "stream",
     "text": [
      "n_users: 10000\n",
      "n_miners_max: 100\n",
      "init_issue: True\n",
      "reward_dist: False\n",
      "reward: 100.0\n",
      "greed_factor: 0.05\n",
      "init_issue_total: 1000000.0\n",
      "init_issue_max: 500.0\n",
      "init_issue_users: 9900\n",
      "\n",
      "Gini Coefficient: 0.49\n"
     ]
    },
    {
     "data": {
      "text/html": [
       "<div>\n",
       "<style>\n",
       "    .dataframe thead tr:only-child th {\n",
       "        text-align: right;\n",
       "    }\n",
       "\n",
       "    .dataframe thead th {\n",
       "        text-align: left;\n",
       "    }\n",
       "\n",
       "    .dataframe tbody tr th {\n",
       "        vertical-align: top;\n",
       "    }\n",
       "</style>\n",
       "<table border=\"1\" class=\"dataframe\">\n",
       "  <thead>\n",
       "    <tr style=\"text-align: right;\">\n",
       "      <th></th>\n",
       "      <th>address</th>\n",
       "      <th>greedy</th>\n",
       "      <th>miner</th>\n",
       "      <th>values</th>\n",
       "    </tr>\n",
       "  </thead>\n",
       "  <tbody>\n",
       "    <tr>\n",
       "      <th>0</th>\n",
       "      <td>5J2sT1EsoEpvwcZWymtDYNfeQyVMXimki8GZwmVvLsuod6...</td>\n",
       "      <td>False</td>\n",
       "      <td>False</td>\n",
       "      <td>234.068622</td>\n",
       "    </tr>\n",
       "    <tr>\n",
       "      <th>1</th>\n",
       "      <td>5KUy12Z16RLapqvq2JaWHmt8zeEGHSdP75g55uXkCkhxRs...</td>\n",
       "      <td>False</td>\n",
       "      <td>False</td>\n",
       "      <td>183.860434</td>\n",
       "    </tr>\n",
       "    <tr>\n",
       "      <th>2</th>\n",
       "      <td>5HyHkb97tuKWhkSrv5mdQCQ2pPxDmzQwfY5SwcsQTxuy8Q...</td>\n",
       "      <td>False</td>\n",
       "      <td>False</td>\n",
       "      <td>83.673799</td>\n",
       "    </tr>\n",
       "    <tr>\n",
       "      <th>3</th>\n",
       "      <td>5KFLw4hGY6g9jA42c1XbvcGxE76JaPKwD5vgU9PbCAKuPC...</td>\n",
       "      <td>False</td>\n",
       "      <td>False</td>\n",
       "      <td>152.740324</td>\n",
       "    </tr>\n",
       "    <tr>\n",
       "      <th>4</th>\n",
       "      <td>5KX9Lm7U3Ztc7oVm9kagcd6xLYtUF3a6EzSF5E3Qpp9Bxw...</td>\n",
       "      <td>False</td>\n",
       "      <td>False</td>\n",
       "      <td>241.783649</td>\n",
       "    </tr>\n",
       "  </tbody>\n",
       "</table>\n",
       "</div>"
      ],
      "text/plain": [
       "                                             address  greedy  miner  \\\n",
       "0  5J2sT1EsoEpvwcZWymtDYNfeQyVMXimki8GZwmVvLsuod6...   False  False   \n",
       "1  5KUy12Z16RLapqvq2JaWHmt8zeEGHSdP75g55uXkCkhxRs...   False  False   \n",
       "2  5HyHkb97tuKWhkSrv5mdQCQ2pPxDmzQwfY5SwcsQTxuy8Q...   False  False   \n",
       "3  5KFLw4hGY6g9jA42c1XbvcGxE76JaPKwD5vgU9PbCAKuPC...   False  False   \n",
       "4  5KX9Lm7U3Ztc7oVm9kagcd6xLYtUF3a6EzSF5E3Qpp9Bxw...   False  False   \n",
       "\n",
       "       values  \n",
       "0  234.068622  \n",
       "1  183.860434  \n",
       "2   83.673799  \n",
       "3  152.740324  \n",
       "4  241.783649  "
      ]
     },
     "execution_count": 3,
     "metadata": {},
     "output_type": "execute_result"
    }
   ],
   "source": [
    "b = Balances(**config['init_issue_fair_greedy'])\n",
    "print_params(b.params)\n",
    "print(\"\\nGini Coefficient: {:0.2f}\".format(b.gini()))\n",
    "b.data.head()"
   ]
  },
  {
   "cell_type": "markdown",
   "metadata": {},
   "source": [
    "## Real initial issuance"
   ]
  },
  {
   "cell_type": "code",
   "execution_count": 4,
   "metadata": {},
   "outputs": [
    {
     "name": "stdout",
     "output_type": "stream",
     "text": [
      "n_users: 10000\n",
      "n_miners_max: 100\n",
      "init_issue: True\n",
      "reward_dist: False\n",
      "reward: 100.0\n",
      "greed_factor: 0.05\n",
      "init_issue_total: 1000000.0\n",
      "init_issue_max: 50000.0\n",
      "init_issue_users: 100\n",
      "\n",
      "Gini Coefficient: 0.99\n"
     ]
    },
    {
     "data": {
      "text/html": [
       "<div>\n",
       "<style>\n",
       "    .dataframe thead tr:only-child th {\n",
       "        text-align: right;\n",
       "    }\n",
       "\n",
       "    .dataframe thead th {\n",
       "        text-align: left;\n",
       "    }\n",
       "\n",
       "    .dataframe tbody tr th {\n",
       "        vertical-align: top;\n",
       "    }\n",
       "</style>\n",
       "<table border=\"1\" class=\"dataframe\">\n",
       "  <thead>\n",
       "    <tr style=\"text-align: right;\">\n",
       "      <th></th>\n",
       "      <th>address</th>\n",
       "      <th>greedy</th>\n",
       "      <th>miner</th>\n",
       "      <th>values</th>\n",
       "    </tr>\n",
       "  </thead>\n",
       "  <tbody>\n",
       "    <tr>\n",
       "      <th>0</th>\n",
       "      <td>5KfKuipanAaPFtp1tgUxd9uHoMH6eSaPTyVv5HSUcZgnXg...</td>\n",
       "      <td>False</td>\n",
       "      <td>False</td>\n",
       "      <td>0.0</td>\n",
       "    </tr>\n",
       "    <tr>\n",
       "      <th>1</th>\n",
       "      <td>5KP6qDGAR8UwXm36arM44BvNn3ParvZbA2DiQ7eoSWJyQ7...</td>\n",
       "      <td>False</td>\n",
       "      <td>False</td>\n",
       "      <td>0.0</td>\n",
       "    </tr>\n",
       "    <tr>\n",
       "      <th>2</th>\n",
       "      <td>5KgwnB2gg82hMRpHpDGuZ71db5yzRUTogXXKHwasDErZcs...</td>\n",
       "      <td>False</td>\n",
       "      <td>False</td>\n",
       "      <td>0.0</td>\n",
       "    </tr>\n",
       "    <tr>\n",
       "      <th>3</th>\n",
       "      <td>5Js2GpbKXcgfF71C1E5Mo5bBTVsh8oaJUAKQasqJC4HFov...</td>\n",
       "      <td>False</td>\n",
       "      <td>False</td>\n",
       "      <td>0.0</td>\n",
       "    </tr>\n",
       "    <tr>\n",
       "      <th>4</th>\n",
       "      <td>5K778ZS6RrGe91XiJL4K6u4xFHnsj6Sr8jzchiCB3MeCeZ...</td>\n",
       "      <td>False</td>\n",
       "      <td>False</td>\n",
       "      <td>0.0</td>\n",
       "    </tr>\n",
       "  </tbody>\n",
       "</table>\n",
       "</div>"
      ],
      "text/plain": [
       "                                             address  greedy  miner  values\n",
       "0  5KfKuipanAaPFtp1tgUxd9uHoMH6eSaPTyVv5HSUcZgnXg...   False  False     0.0\n",
       "1  5KP6qDGAR8UwXm36arM44BvNn3ParvZbA2DiQ7eoSWJyQ7...   False  False     0.0\n",
       "2  5KgwnB2gg82hMRpHpDGuZ71db5yzRUTogXXKHwasDErZcs...   False  False     0.0\n",
       "3  5Js2GpbKXcgfF71C1E5Mo5bBTVsh8oaJUAKQasqJC4HFov...   False  False     0.0\n",
       "4  5K778ZS6RrGe91XiJL4K6u4xFHnsj6Sr8jzchiCB3MeCeZ...   False  False     0.0"
      ]
     },
     "execution_count": 4,
     "metadata": {},
     "output_type": "execute_result"
    }
   ],
   "source": [
    "config = ConfigDict().parse()\n",
    "b = Balances(**config['init_issue_real_greedy'])\n",
    "print_params(b.params)\n",
    "print(\"\\nGini Coefficient: {:0.2f}\".format(b.gini()))\n",
    "b.data.head()"
   ]
  },
  {
   "cell_type": "markdown",
   "metadata": {},
   "source": [
    "## Simulation experiments on greed"
   ]
  },
  {
   "cell_type": "code",
   "execution_count": 6,
   "metadata": {},
   "outputs": [
    {
     "name": "stdout",
     "output_type": "stream",
     "text": [
      "No initial issuance, with greed\t0.25005516192708604\n",
      "No initial issuance, no greed\t0.14298330399841\n",
      "Fair initial issuance, with greed\t0.2505643441975864\n",
      "Fair inital issuance, no greed\t0.13940006644764202\n",
      "Real initial issuance, with greed\t0.26280163449402083\n"
     ]
    },
    {
     "ename": "KeyboardInterrupt",
     "evalue": "",
     "output_type": "error",
     "traceback": [
      "\u001b[0;31m---------------------------------------------------------------------------\u001b[0m",
      "\u001b[0;31mKeyboardInterrupt\u001b[0m                         Traceback (most recent call last)",
      "\u001b[0;32m<ipython-input-6-7ebbcc09970a>\u001b[0m in \u001b[0;36m<module>\u001b[0;34m()\u001b[0m\n\u001b[1;32m     10\u001b[0m \u001b[0;32mfor\u001b[0m \u001b[0mexp_key\u001b[0m \u001b[0;32min\u001b[0m \u001b[0mexp_states\u001b[0m\u001b[0;34m.\u001b[0m\u001b[0mkeys\u001b[0m\u001b[0;34m(\u001b[0m\u001b[0;34m)\u001b[0m\u001b[0;34m:\u001b[0m\u001b[0;34m\u001b[0m\u001b[0m\n\u001b[1;32m     11\u001b[0m     \u001b[0ms\u001b[0m \u001b[0;34m=\u001b[0m \u001b[0mSimulation\u001b[0m\u001b[0;34m(\u001b[0m\u001b[0mbalances\u001b[0m\u001b[0;34m=\u001b[0m\u001b[0mBalances\u001b[0m\u001b[0;34m(\u001b[0m\u001b[0;34m**\u001b[0m\u001b[0mconfig\u001b[0m\u001b[0;34m[\u001b[0m\u001b[0mexp_key\u001b[0m\u001b[0;34m]\u001b[0m\u001b[0;34m)\u001b[0m\u001b[0;34m)\u001b[0m\u001b[0;34m\u001b[0m\u001b[0m\n\u001b[0;32m---> 12\u001b[0;31m     \u001b[0mg_data\u001b[0m \u001b[0;34m=\u001b[0m \u001b[0ms\u001b[0m\u001b[0;34m.\u001b[0m\u001b[0msimulate\u001b[0m\u001b[0;34m(\u001b[0m\u001b[0;34m)\u001b[0m\u001b[0;34m\u001b[0m\u001b[0m\n\u001b[0m\u001b[1;32m     13\u001b[0m     \u001b[0mg\u001b[0m\u001b[0;34m.\u001b[0m\u001b[0mappend\u001b[0m\u001b[0;34m(\u001b[0m\u001b[0mg_data\u001b[0m\u001b[0;34m)\u001b[0m\u001b[0;34m\u001b[0m\u001b[0m\n\u001b[1;32m     14\u001b[0m     \u001b[0mprint\u001b[0m\u001b[0;34m(\u001b[0m\u001b[0;34m\"{}\\t{}\"\u001b[0m\u001b[0;34m.\u001b[0m\u001b[0mformat\u001b[0m\u001b[0;34m(\u001b[0m\u001b[0mexp_states\u001b[0m\u001b[0;34m[\u001b[0m\u001b[0mexp_key\u001b[0m\u001b[0;34m]\u001b[0m\u001b[0;34m,\u001b[0m \u001b[0mnp\u001b[0m\u001b[0;34m.\u001b[0m\u001b[0mmean\u001b[0m\u001b[0;34m(\u001b[0m\u001b[0mg_data\u001b[0m\u001b[0;34m)\u001b[0m\u001b[0;34m)\u001b[0m\u001b[0;34m)\u001b[0m\u001b[0;34m\u001b[0m\u001b[0m\n",
      "\u001b[0;32m/Users/ali/insight/proofing-ground/code/simulation.py\u001b[0m in \u001b[0;36msimulate\u001b[0;34m(self)\u001b[0m\n\u001b[1;32m     57\u001b[0m                             \u001b[0mfrom_ind\u001b[0m \u001b[0;34m=\u001b[0m \u001b[0mrandom_int\u001b[0m\u001b[0;34m(\u001b[0m\u001b[0mself\u001b[0m\u001b[0;34m.\u001b[0m\u001b[0mn_users\u001b[0m\u001b[0;34m)\u001b[0m\u001b[0;34m\u001b[0m\u001b[0m\n\u001b[1;32m     58\u001b[0m                     \u001b[0;32mwhile\u001b[0m \u001b[0mfrom_ind\u001b[0m \u001b[0;34m==\u001b[0m \u001b[0mto_ind\u001b[0m\u001b[0;34m:\u001b[0m\u001b[0;34m\u001b[0m\u001b[0m\n\u001b[0;32m---> 59\u001b[0;31m                         \u001b[0mto_ind\u001b[0m \u001b[0;34m=\u001b[0m \u001b[0mrandom_int\u001b[0m\u001b[0;34m(\u001b[0m\u001b[0mself\u001b[0m\u001b[0;34m.\u001b[0m\u001b[0mn_users\u001b[0m\u001b[0;34m)\u001b[0m\u001b[0;34m\u001b[0m\u001b[0m\n\u001b[0m\u001b[1;32m     60\u001b[0m \u001b[0;34m\u001b[0m\u001b[0m\n\u001b[1;32m     61\u001b[0m                     \u001b[0;31m# transaction amount\u001b[0m\u001b[0;34m\u001b[0m\u001b[0;34m\u001b[0m\u001b[0m\n",
      "\u001b[0;32m/Users/ali/insight/proofing-ground/code/balances.py\u001b[0m in \u001b[0;36mrandom_int\u001b[0;34m(max_val)\u001b[0m\n\u001b[1;32m     34\u001b[0m \u001b[0;34m\u001b[0m\u001b[0m\n\u001b[1;32m     35\u001b[0m \u001b[0;32mdef\u001b[0m \u001b[0mrandom_int\u001b[0m\u001b[0;34m(\u001b[0m\u001b[0mmax_val\u001b[0m\u001b[0;34m)\u001b[0m\u001b[0;34m:\u001b[0m\u001b[0;34m\u001b[0m\u001b[0m\n\u001b[0;32m---> 36\u001b[0;31m     \u001b[0;32mreturn\u001b[0m \u001b[0mnp\u001b[0m\u001b[0;34m.\u001b[0m\u001b[0mrandom\u001b[0m\u001b[0;34m.\u001b[0m\u001b[0mrandint\u001b[0m\u001b[0;34m(\u001b[0m\u001b[0;36m0\u001b[0m\u001b[0;34m,\u001b[0m \u001b[0mmax_val\u001b[0m\u001b[0;34m)\u001b[0m\u001b[0;34m\u001b[0m\u001b[0m\n\u001b[0m\u001b[1;32m     37\u001b[0m \u001b[0;34m\u001b[0m\u001b[0m\n\u001b[1;32m     38\u001b[0m \u001b[0;32mclass\u001b[0m \u001b[0mBalances\u001b[0m\u001b[0;34m:\u001b[0m\u001b[0;34m\u001b[0m\u001b[0m\n",
      "\u001b[0;31mKeyboardInterrupt\u001b[0m: "
     ]
    }
   ],
   "source": [
    "fig, axs = plt.subplots(2,3)\n",
    "exp_states = {'default': \"No initial issuance, with greed\",\n",
    "              'no_greed': \"No initial issuance, no greed\",\n",
    "              'init_issue_fair_greedy': \"Fair initial issuance, with greed\",\n",
    "              'init_issue_fair_alt': \"Fair inital issuance, no greed\",\n",
    "              'init_issue_real_greedy': \"Real initial issuance, with greed\", \n",
    "              'init_issue_real_alt' : \"Fair initial issuance, no greed\" }\n",
    "g = []\n",
    "\n",
    "for exp_key in exp_states.keys():\n",
    "    s = Simulation(balances=Balances(**config[exp_key]))\n",
    "    g_data = s.simulate()\n",
    "    g.append(g_data)\n",
    "    print(\"{}\\t{}\".format(exp_states[exp_key], np.mean(g_data)))"
   ]
  },
  {
   "cell_type": "code",
   "execution_count": null,
   "metadata": {
    "collapsed": true
   },
   "outputs": [],
   "source": [
    "print_params(s)"
   ]
  },
  {
   "cell_type": "code",
   "execution_count": null,
   "metadata": {
    "collapsed": true
   },
   "outputs": [],
   "source": [
    "for x, ax in zip(g, axs):\n",
    "    ax.hist(g= bins=np.arange(0.,1.,0.05))"
   ]
  }
 ],
 "metadata": {
  "kernelspec": {
   "display_name": "Python 3",
   "language": "python",
   "name": "python3"
  },
  "language_info": {
   "codemirror_mode": {
    "name": "ipython",
    "version": 3
   },
   "file_extension": ".py",
   "mimetype": "text/x-python",
   "name": "python",
   "nbconvert_exporter": "python",
   "pygments_lexer": "ipython3",
   "version": "3.6.1"
  }
 },
 "nbformat": 4,
 "nbformat_minor": 2
}
