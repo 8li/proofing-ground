{
 "cells": [
  {
   "cell_type": "code",
   "execution_count": 1,
   "metadata": {},
   "outputs": [],
   "source": [
    "%load_ext autoreload\n",
    "%autoreload 2\n",
    "\n",
    "import sys\n",
    "import json\n",
    "sys.path.append('code/')\n",
    "\n",
    "import numpy as np\n",
    "import pandas as pd\n",
    "import matplotlib\n",
    "import matplotlib.pyplot as plt\n",
    "\n",
    "import os, binascii, hashlib, base58\n",
    "\n",
    "from parse_config import ConfigDict\n",
    "from balances import Balances\n",
    "from simulation import Simulation\n",
    "\n",
    "#pd.set_option('display.height', 1000)\n",
    "pd.set_option('display.max_rows', 20)\n",
    "#pd.set_option('display.max_columns', 500)\n",
    "#pd.set_option('display.width', 1000)\n",
    "\n",
    "config = ConfigDict().parse()"
   ]
  },
  {
   "cell_type": "code",
   "execution_count": 2,
   "metadata": {
    "collapsed": true
   },
   "outputs": [],
   "source": [
    "def print_params(params):\n",
    "    for k,v in params().items():\n",
    "        print(\"{}: {}\".format(k,v))"
   ]
  },
  {
   "cell_type": "code",
   "execution_count": 3,
   "metadata": {},
   "outputs": [],
   "source": [
    "import importlib, balances, simulation\n",
    "importlib.reload(balances)\n",
    "importlib.reload(simulation)\n",
    "from balances import Balances\n",
    "from simulation import Simulation"
   ]
  },
  {
   "cell_type": "code",
   "execution_count": null,
   "metadata": {},
   "outputs": [],
   "source": [
    "b = Balances(**config['default'])\n",
    "print_params(b.params)\n",
    "print(\"\\n Gini Coefficient: {:0.2f}\".format(b.gini()))\n",
    "b.data.head()"
   ]
  },
  {
   "cell_type": "code",
   "execution_count": 13,
   "metadata": {},
   "outputs": [
    {
     "name": "stdout",
     "output_type": "stream",
     "text": [
      "n_users: 100000\n",
      "n_miners_max: 500\n",
      "init_issue: True\n",
      "reward_dist: False\n",
      "reward: 100.0\n",
      "init_issue_total: 1000000.0\n",
      "init_issue_max: 500.0\n",
      "init_issue_users: 99000\n",
      "Gini Coefficient: 0.49\n"
     ]
    },
    {
     "data": {
      "text/html": [
       "<div>\n",
       "<style>\n",
       "    .dataframe thead tr:only-child th {\n",
       "        text-align: right;\n",
       "    }\n",
       "\n",
       "    .dataframe thead th {\n",
       "        text-align: left;\n",
       "    }\n",
       "\n",
       "    .dataframe tbody tr th {\n",
       "        vertical-align: top;\n",
       "    }\n",
       "</style>\n",
       "<table border=\"1\" class=\"dataframe\">\n",
       "  <thead>\n",
       "    <tr style=\"text-align: right;\">\n",
       "      <th></th>\n",
       "      <th>address</th>\n",
       "      <th>miner</th>\n",
       "      <th>values</th>\n",
       "    </tr>\n",
       "  </thead>\n",
       "  <tbody>\n",
       "    <tr>\n",
       "      <th>0</th>\n",
       "      <td>5KA36FpAXpPYTn6KrxWBnZkMoDU7YSe9tFj3LRN3yTZggX...</td>\n",
       "      <td>False</td>\n",
       "      <td>19.679175</td>\n",
       "    </tr>\n",
       "    <tr>\n",
       "      <th>1</th>\n",
       "      <td>5KeNYvyrf1vsrSXy2MP9AhecAbRr1CNrGbuVfrEFaKS94c...</td>\n",
       "      <td>False</td>\n",
       "      <td>0.040680</td>\n",
       "    </tr>\n",
       "    <tr>\n",
       "      <th>2</th>\n",
       "      <td>5JdBsWQhN67y8oLtjK8oN6dnJyiURRViTCbPJFKqSwypqZ...</td>\n",
       "      <td>False</td>\n",
       "      <td>10.098027</td>\n",
       "    </tr>\n",
       "    <tr>\n",
       "      <th>3</th>\n",
       "      <td>5JBiiTrpXsjoua3bieJ2qUqhXF5CjprxsmniGWZgZLqwed...</td>\n",
       "      <td>False</td>\n",
       "      <td>7.507638</td>\n",
       "    </tr>\n",
       "    <tr>\n",
       "      <th>4</th>\n",
       "      <td>5JHFthf1EVPqvH1TH99f9Mb2XK3DRYdDEUVYJPUPzQ2SL9...</td>\n",
       "      <td>False</td>\n",
       "      <td>5.132328</td>\n",
       "    </tr>\n",
       "  </tbody>\n",
       "</table>\n",
       "</div>"
      ],
      "text/plain": [
       "                                             address  miner     values\n",
       "0  5KA36FpAXpPYTn6KrxWBnZkMoDU7YSe9tFj3LRN3yTZggX...  False  19.679175\n",
       "1  5KeNYvyrf1vsrSXy2MP9AhecAbRr1CNrGbuVfrEFaKS94c...  False   0.040680\n",
       "2  5JdBsWQhN67y8oLtjK8oN6dnJyiURRViTCbPJFKqSwypqZ...  False  10.098027\n",
       "3  5JBiiTrpXsjoua3bieJ2qUqhXF5CjprxsmniGWZgZLqwed...  False   7.507638\n",
       "4  5JHFthf1EVPqvH1TH99f9Mb2XK3DRYdDEUVYJPUPzQ2SL9...  False   5.132328"
      ]
     },
     "execution_count": 13,
     "metadata": {},
     "output_type": "execute_result"
    }
   ],
   "source": [
    "config = ConfigDict().parse()\n",
    "b = Balances(**config['init_issue_fair'])\n",
    "print_params(b.params)\n",
    "print(\"Gini Coefficient: {:0.2f}\".format(b.gini()))\n",
    "b.data.head()"
   ]
  },
  {
   "cell_type": "code",
   "execution_count": 15,
   "metadata": {},
   "outputs": [
    {
     "name": "stdout",
     "output_type": "stream",
     "text": [
      "n_users: 100000\n",
      "n_miners_max: 500\n",
      "init_issue: True\n",
      "reward_dist: False\n",
      "reward: 100.0\n",
      "init_issue_total: 1000000.0\n",
      "init_issue_max: 50000.0\n",
      "init_issue_users: 10000\n",
      "Gini Coefficient: 0.95\n"
     ]
    },
    {
     "data": {
      "text/html": [
       "<div>\n",
       "<style>\n",
       "    .dataframe thead tr:only-child th {\n",
       "        text-align: right;\n",
       "    }\n",
       "\n",
       "    .dataframe thead th {\n",
       "        text-align: left;\n",
       "    }\n",
       "\n",
       "    .dataframe tbody tr th {\n",
       "        vertical-align: top;\n",
       "    }\n",
       "</style>\n",
       "<table border=\"1\" class=\"dataframe\">\n",
       "  <thead>\n",
       "    <tr style=\"text-align: right;\">\n",
       "      <th></th>\n",
       "      <th>address</th>\n",
       "      <th>miner</th>\n",
       "      <th>values</th>\n",
       "    </tr>\n",
       "  </thead>\n",
       "  <tbody>\n",
       "    <tr>\n",
       "      <th>0</th>\n",
       "      <td>5K9duzZXHFTCvws8g6n8EAnxJBD8Z8cZ1QnXKWa4M91th6...</td>\n",
       "      <td>False</td>\n",
       "      <td>0.000000</td>\n",
       "    </tr>\n",
       "    <tr>\n",
       "      <th>1</th>\n",
       "      <td>5KdaZRYsEnG7VDnCRucHAB7HQ2ziJUvD8ADUMK7QUcYjxA...</td>\n",
       "      <td>False</td>\n",
       "      <td>0.000000</td>\n",
       "    </tr>\n",
       "    <tr>\n",
       "      <th>2</th>\n",
       "      <td>5J8QRr6DfvZKHwfPEvJ4UpmgTQBCRoXGzt18v8rWqsFZMY...</td>\n",
       "      <td>False</td>\n",
       "      <td>87.151311</td>\n",
       "    </tr>\n",
       "    <tr>\n",
       "      <th>3</th>\n",
       "      <td>5KPLAtx93Jx33xi9Evuh9JhGV5sCpWezuhYig6azsrJYmy...</td>\n",
       "      <td>False</td>\n",
       "      <td>0.000000</td>\n",
       "    </tr>\n",
       "    <tr>\n",
       "      <th>4</th>\n",
       "      <td>5JYLsqy46K1Tzrv1ca64eTLQeXdcXdp4GsyksFznKbwGwC...</td>\n",
       "      <td>False</td>\n",
       "      <td>0.000000</td>\n",
       "    </tr>\n",
       "  </tbody>\n",
       "</table>\n",
       "</div>"
      ],
      "text/plain": [
       "                                             address  miner     values\n",
       "0  5K9duzZXHFTCvws8g6n8EAnxJBD8Z8cZ1QnXKWa4M91th6...  False   0.000000\n",
       "1  5KdaZRYsEnG7VDnCRucHAB7HQ2ziJUvD8ADUMK7QUcYjxA...  False   0.000000\n",
       "2  5J8QRr6DfvZKHwfPEvJ4UpmgTQBCRoXGzt18v8rWqsFZMY...  False  87.151311\n",
       "3  5KPLAtx93Jx33xi9Evuh9JhGV5sCpWezuhYig6azsrJYmy...  False   0.000000\n",
       "4  5JYLsqy46K1Tzrv1ca64eTLQeXdcXdp4GsyksFznKbwGwC...  False   0.000000"
      ]
     },
     "execution_count": 15,
     "metadata": {},
     "output_type": "execute_result"
    }
   ],
   "source": [
    "config = ConfigDict().parse()\n",
    "b = Balances(**config['init_issue_real'])\n",
    "print_params(b.params)\n",
    "print(\"Gini Coefficient: {:0.2f}\".format(b.gini()))\n",
    "b.data.head()"
   ]
  },
  {
   "cell_type": "code",
   "execution_count": null,
   "metadata": {},
   "outputs": [],
   "source": [
    "len(b.data['values'][b.data['values']>0])"
   ]
  },
  {
   "cell_type": "code",
   "execution_count": null,
   "metadata": {},
   "outputs": [],
   "source": [
    "b"
   ]
  },
  {
   "cell_type": "code",
   "execution_count": null,
   "metadata": {},
   "outputs": [],
   "source": [
    "s = Simulation(balances=False,**config['default'])\n",
    "print_params(s.params)\n",
    "s.balances.data.head()"
   ]
  },
  {
   "cell_type": "code",
   "execution_count": null,
   "metadata": {},
   "outputs": [],
   "source": []
  },
  {
   "cell_type": "code",
   "execution_count": null,
   "metadata": {
    "collapsed": true
   },
   "outputs": [],
   "source": [
    "gini = s.simulate()"
   ]
  },
  {
   "cell_type": "code",
   "execution_count": null,
   "metadata": {
    "collapsed": true
   },
   "outputs": [],
   "source": [
    "gini"
   ]
  },
  {
   "cell_type": "code",
   "execution_count": null,
   "metadata": {
    "collapsed": true
   },
   "outputs": [],
   "source": []
  },
  {
   "cell_type": "code",
   "execution_count": null,
   "metadata": {},
   "outputs": [],
   "source": [
    "from balances import generate_random_value\n",
    "n_users=int(1e5)\n",
    "n_miners_max=1000\n",
    "\n",
    "miner = np.zeros(n_users, dtype=bool)\n",
    "for _ in range(n_miners_max):\n",
    "    i = int(generate_random_value(n_users))\n",
    "    while miner[i]:\n",
    "        i = int(generate_random_value(n_users))\n",
    "\n",
    "    miner[i] = True"
   ]
  },
  {
   "cell_type": "code",
   "execution_count": null,
   "metadata": {},
   "outputs": [],
   "source": [
    "len(miner[miner==True])"
   ]
  },
  {
   "cell_type": "code",
   "execution_count": null,
   "metadata": {},
   "outputs": [],
   "source": [
    "int(generate_random_value(b.n_users))"
   ]
  },
  {
   "cell_type": "code",
   "execution_count": null,
   "metadata": {},
   "outputs": [],
   "source": [
    "miner[6]"
   ]
  },
  {
   "cell_type": "code",
   "execution_count": null,
   "metadata": {},
   "outputs": [],
   "source": [
    "miner"
   ]
  },
  {
   "cell_type": "code",
   "execution_count": null,
   "metadata": {
    "collapsed": true
   },
   "outputs": [],
   "source": [
    "total = 100000\n",
    "n = 500\n",
    "\n",
    "np.random.randint()"
   ]
  }
 ],
 "metadata": {
  "kernelspec": {
   "display_name": "Python 3",
   "language": "python",
   "name": "python3"
  },
  "language_info": {
   "codemirror_mode": {
    "name": "ipython",
    "version": 3
   },
   "file_extension": ".py",
   "mimetype": "text/x-python",
   "name": "python",
   "nbconvert_exporter": "python",
   "pygments_lexer": "ipython3",
   "version": "3.6.1"
  }
 },
 "nbformat": 4,
 "nbformat_minor": 2
}
