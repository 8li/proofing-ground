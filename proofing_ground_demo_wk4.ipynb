{
 "cells": [
  {
   "cell_type": "code",
   "execution_count": 16,
   "metadata": {},
   "outputs": [
    {
     "name": "stdout",
     "output_type": "stream",
     "text": [
      "The autoreload extension is already loaded. To reload it, use:\n",
      "  %reload_ext autoreload\n"
     ]
    }
   ],
   "source": [
    "%load_ext autoreload\n",
    "%autoreload 2\n",
    "\n",
    "import sys\n",
    "import json\n",
    "sys.path.append('code/')\n",
    "\n",
    "import numpy as np\n",
    "import pandas as pd\n",
    "import matplotlib\n",
    "import matplotlib.pyplot as plt\n",
    "\n",
    "import os, binascii, hashlib, base58\n",
    "\n",
    "from parse_config import ConfigDict\n",
    "from balances import Balances\n",
    "from simulation import Simulation\n",
    "\n",
    "pd.set_option('display.max_rows', 20)\n",
    "\n",
    "config = ConfigDict().parse()"
   ]
  },
  {
   "cell_type": "code",
   "execution_count": 17,
   "metadata": {
    "collapsed": true
   },
   "outputs": [],
   "source": [
    "def print_params(params):\n",
    "    for k,v in params().items():\n",
    "        print(\"{}: {}\".format(k,v))"
   ]
  },
  {
   "cell_type": "code",
   "execution_count": 18,
   "metadata": {},
   "outputs": [
    {
     "name": "stdout",
     "output_type": "stream",
     "text": [
      "n_users: 100000\n",
      "n_miners_max: 500\n",
      "init_issue: False\n",
      "reward_dist: False\n",
      "reward: 100.0\n",
      "\n",
      " Gini Coefficient: 0.00\n"
     ]
    },
    {
     "data": {
      "text/html": [
       "<div>\n",
       "<style>\n",
       "    .dataframe thead tr:only-child th {\n",
       "        text-align: right;\n",
       "    }\n",
       "\n",
       "    .dataframe thead th {\n",
       "        text-align: left;\n",
       "    }\n",
       "\n",
       "    .dataframe tbody tr th {\n",
       "        vertical-align: top;\n",
       "    }\n",
       "</style>\n",
       "<table border=\"1\" class=\"dataframe\">\n",
       "  <thead>\n",
       "    <tr style=\"text-align: right;\">\n",
       "      <th></th>\n",
       "      <th>address</th>\n",
       "      <th>miner</th>\n",
       "      <th>values</th>\n",
       "    </tr>\n",
       "  </thead>\n",
       "  <tbody>\n",
       "    <tr>\n",
       "      <th>0</th>\n",
       "      <td>5JPQ3mzuTvsMvvVZsMqji3iFCw7WQZL5sZ8Xn7uPJQKLqh...</td>\n",
       "      <td>False</td>\n",
       "      <td>0.0</td>\n",
       "    </tr>\n",
       "    <tr>\n",
       "      <th>1</th>\n",
       "      <td>5JqHcQPeiBbcpi1mqw3Km898mQQwuZadipDBFRnZWdtnXR...</td>\n",
       "      <td>False</td>\n",
       "      <td>0.0</td>\n",
       "    </tr>\n",
       "    <tr>\n",
       "      <th>2</th>\n",
       "      <td>5JtjXpSU8aAqPKdUbVxhusWnhEzUp4ZEGLYegCT9DW5NqJ...</td>\n",
       "      <td>False</td>\n",
       "      <td>0.0</td>\n",
       "    </tr>\n",
       "    <tr>\n",
       "      <th>3</th>\n",
       "      <td>5KgwAPe4BvgKvtdYBPaknw8u9wwc7aRoMCSCYyYB4XiQz2...</td>\n",
       "      <td>False</td>\n",
       "      <td>0.0</td>\n",
       "    </tr>\n",
       "    <tr>\n",
       "      <th>4</th>\n",
       "      <td>5HqoAB86xfayX7YTgCpPC8kgBmmbCFgCyKc3oysSVHcJY2...</td>\n",
       "      <td>False</td>\n",
       "      <td>0.0</td>\n",
       "    </tr>\n",
       "  </tbody>\n",
       "</table>\n",
       "</div>"
      ],
      "text/plain": [
       "                                             address  miner  values\n",
       "0  5JPQ3mzuTvsMvvVZsMqji3iFCw7WQZL5sZ8Xn7uPJQKLqh...  False     0.0\n",
       "1  5JqHcQPeiBbcpi1mqw3Km898mQQwuZadipDBFRnZWdtnXR...  False     0.0\n",
       "2  5JtjXpSU8aAqPKdUbVxhusWnhEzUp4ZEGLYegCT9DW5NqJ...  False     0.0\n",
       "3  5KgwAPe4BvgKvtdYBPaknw8u9wwc7aRoMCSCYyYB4XiQz2...  False     0.0\n",
       "4  5HqoAB86xfayX7YTgCpPC8kgBmmbCFgCyKc3oysSVHcJY2...  False     0.0"
      ]
     },
     "execution_count": 18,
     "metadata": {},
     "output_type": "execute_result"
    }
   ],
   "source": [
    "b = Balances(**config['default'])\n",
    "print_params(b.params)\n",
    "print(\"\\n Gini Coefficient: {:0.2f}\".format(b.gini()))\n",
    "b.data.head()"
   ]
  },
  {
   "cell_type": "code",
   "execution_count": 19,
   "metadata": {},
   "outputs": [
    {
     "name": "stdout",
     "output_type": "stream",
     "text": [
      "n_users: 100000\n",
      "n_miners_max: 500\n",
      "init_issue: True\n",
      "reward_dist: False\n",
      "reward: 100.0\n",
      "init_issue_total: 1000000.0\n",
      "init_issue_max: 500.0\n",
      "init_issue_users: 99000\n",
      "Gini Coefficient: 0.49\n"
     ]
    },
    {
     "data": {
      "text/html": [
       "<div>\n",
       "<style>\n",
       "    .dataframe thead tr:only-child th {\n",
       "        text-align: right;\n",
       "    }\n",
       "\n",
       "    .dataframe thead th {\n",
       "        text-align: left;\n",
       "    }\n",
       "\n",
       "    .dataframe tbody tr th {\n",
       "        vertical-align: top;\n",
       "    }\n",
       "</style>\n",
       "<table border=\"1\" class=\"dataframe\">\n",
       "  <thead>\n",
       "    <tr style=\"text-align: right;\">\n",
       "      <th></th>\n",
       "      <th>address</th>\n",
       "      <th>miner</th>\n",
       "      <th>values</th>\n",
       "    </tr>\n",
       "  </thead>\n",
       "  <tbody>\n",
       "    <tr>\n",
       "      <th>0</th>\n",
       "      <td>5JKiEnf8UjpaDyu8uueTQn6Pep1DVDv1NEtmJTzqkQzvzo...</td>\n",
       "      <td>False</td>\n",
       "      <td>0.666643</td>\n",
       "    </tr>\n",
       "    <tr>\n",
       "      <th>1</th>\n",
       "      <td>5KNycpmBFjGWPu5SauJZmk7RMV1ajSbdfERzBLs5dTMVcM...</td>\n",
       "      <td>False</td>\n",
       "      <td>6.172435</td>\n",
       "    </tr>\n",
       "    <tr>\n",
       "      <th>2</th>\n",
       "      <td>5JpwBNrXcnWtqrAiKh9ruEhTvNxTLJF3BLem1JZYfSWVuK...</td>\n",
       "      <td>False</td>\n",
       "      <td>0.995311</td>\n",
       "    </tr>\n",
       "    <tr>\n",
       "      <th>3</th>\n",
       "      <td>5K3CNPWar8hVrFiEF4KU3uHvvoHBvDWBvSSqsoiHN3BFVG...</td>\n",
       "      <td>False</td>\n",
       "      <td>13.231269</td>\n",
       "    </tr>\n",
       "    <tr>\n",
       "      <th>4</th>\n",
       "      <td>5KWLxS4XLFLCKxoTBD44V2fTnA9ep1wH7sTMNSq5EyMwjg...</td>\n",
       "      <td>False</td>\n",
       "      <td>4.761549</td>\n",
       "    </tr>\n",
       "  </tbody>\n",
       "</table>\n",
       "</div>"
      ],
      "text/plain": [
       "                                             address  miner     values\n",
       "0  5JKiEnf8UjpaDyu8uueTQn6Pep1DVDv1NEtmJTzqkQzvzo...  False   0.666643\n",
       "1  5KNycpmBFjGWPu5SauJZmk7RMV1ajSbdfERzBLs5dTMVcM...  False   6.172435\n",
       "2  5JpwBNrXcnWtqrAiKh9ruEhTvNxTLJF3BLem1JZYfSWVuK...  False   0.995311\n",
       "3  5K3CNPWar8hVrFiEF4KU3uHvvoHBvDWBvSSqsoiHN3BFVG...  False  13.231269\n",
       "4  5KWLxS4XLFLCKxoTBD44V2fTnA9ep1wH7sTMNSq5EyMwjg...  False   4.761549"
      ]
     },
     "execution_count": 19,
     "metadata": {},
     "output_type": "execute_result"
    }
   ],
   "source": [
    "config = ConfigDict().parse()\n",
    "b = Balances(**config['init_issue_fair'])\n",
    "print_params(b.params)\n",
    "print(\"Gini Coefficient: {:0.2f}\".format(b.gini()))\n",
    "b.data.head()"
   ]
  },
  {
   "cell_type": "code",
   "execution_count": 20,
   "metadata": {},
   "outputs": [
    {
     "name": "stdout",
     "output_type": "stream",
     "text": [
      "n_users: 100000\n",
      "n_miners_max: 500\n",
      "init_issue: True\n",
      "reward_dist: False\n",
      "reward: 100.0\n",
      "init_issue_total: 1000000.0\n",
      "init_issue_max: 50000.0\n",
      "init_issue_users: 10000\n",
      "Gini Coefficient: 0.95\n"
     ]
    },
    {
     "data": {
      "text/html": [
       "<div>\n",
       "<style>\n",
       "    .dataframe thead tr:only-child th {\n",
       "        text-align: right;\n",
       "    }\n",
       "\n",
       "    .dataframe thead th {\n",
       "        text-align: left;\n",
       "    }\n",
       "\n",
       "    .dataframe tbody tr th {\n",
       "        vertical-align: top;\n",
       "    }\n",
       "</style>\n",
       "<table border=\"1\" class=\"dataframe\">\n",
       "  <thead>\n",
       "    <tr style=\"text-align: right;\">\n",
       "      <th></th>\n",
       "      <th>address</th>\n",
       "      <th>miner</th>\n",
       "      <th>values</th>\n",
       "    </tr>\n",
       "  </thead>\n",
       "  <tbody>\n",
       "    <tr>\n",
       "      <th>0</th>\n",
       "      <td>5KfoZS9B3cKkjnELnLn3zopb5W1rYcHptsSGz7kzHRnDR5...</td>\n",
       "      <td>False</td>\n",
       "      <td>0.0</td>\n",
       "    </tr>\n",
       "    <tr>\n",
       "      <th>1</th>\n",
       "      <td>5KV81vUvR1UZRrmzrCJEnwUMTDMmrcNmKJs1V9owNAjQ4N...</td>\n",
       "      <td>False</td>\n",
       "      <td>0.0</td>\n",
       "    </tr>\n",
       "    <tr>\n",
       "      <th>2</th>\n",
       "      <td>5Jx3MuhmqqLLnUSB4xqaub1wSoVDPHmiwyH2jSQXHHKtLY...</td>\n",
       "      <td>False</td>\n",
       "      <td>0.0</td>\n",
       "    </tr>\n",
       "    <tr>\n",
       "      <th>3</th>\n",
       "      <td>5K6Wd4Fo6DEF1Y2hHkTfzn5bZKwjcBNScwNetS4PDp5A2M...</td>\n",
       "      <td>False</td>\n",
       "      <td>0.0</td>\n",
       "    </tr>\n",
       "    <tr>\n",
       "      <th>4</th>\n",
       "      <td>5HuWYMrtHhTviQQ36qczcMgpBhGZNQaisedQhJW1XXAU96...</td>\n",
       "      <td>False</td>\n",
       "      <td>0.0</td>\n",
       "    </tr>\n",
       "  </tbody>\n",
       "</table>\n",
       "</div>"
      ],
      "text/plain": [
       "                                             address  miner  values\n",
       "0  5KfoZS9B3cKkjnELnLn3zopb5W1rYcHptsSGz7kzHRnDR5...  False     0.0\n",
       "1  5KV81vUvR1UZRrmzrCJEnwUMTDMmrcNmKJs1V9owNAjQ4N...  False     0.0\n",
       "2  5Jx3MuhmqqLLnUSB4xqaub1wSoVDPHmiwyH2jSQXHHKtLY...  False     0.0\n",
       "3  5K6Wd4Fo6DEF1Y2hHkTfzn5bZKwjcBNScwNetS4PDp5A2M...  False     0.0\n",
       "4  5HuWYMrtHhTviQQ36qczcMgpBhGZNQaisedQhJW1XXAU96...  False     0.0"
      ]
     },
     "execution_count": 20,
     "metadata": {},
     "output_type": "execute_result"
    }
   ],
   "source": [
    "config = ConfigDict().parse()\n",
    "b = Balances(**config['init_issue_real'])\n",
    "print_params(b.params)\n",
    "print(\"Gini Coefficient: {:0.2f}\".format(b.gini()))\n",
    "b.data.head()"
   ]
  }
 ],
 "metadata": {
  "kernelspec": {
   "display_name": "Python 3",
   "language": "python",
   "name": "python3"
  },
  "language_info": {
   "codemirror_mode": {
    "name": "ipython",
    "version": 3
   },
   "file_extension": ".py",
   "mimetype": "text/x-python",
   "name": "python",
   "nbconvert_exporter": "python",
   "pygments_lexer": "ipython3",
   "version": "3.6.1"
  }
 },
 "nbformat": 4,
 "nbformat_minor": 2
}
