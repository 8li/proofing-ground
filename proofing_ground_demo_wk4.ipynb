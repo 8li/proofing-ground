{
 "cells": [
  {
   "cell_type": "code",
   "execution_count": 1,
   "metadata": {},
   "outputs": [],
   "source": [
    "%load_ext autoreload\n",
    "%autoreload 2\n",
    "\n",
    "import sys\n",
    "import json\n",
    "sys.path.append('code/')\n",
    "\n",
    "import numpy as np\n",
    "import pandas as pd\n",
    "import matplotlib\n",
    "import matplotlib.pyplot as plt\n",
    "\n",
    "import os, binascii, hashlib, base58\n",
    "\n",
    "from parse_config import ConfigDict\n",
    "from balances import Balances\n",
    "from simulation import Simulation\n",
    "\n",
    "pd.set_option('display.max_rows', 20)\n",
    "\n",
    "config = ConfigDict().parse()\n",
    "\n",
    "def print_params(params):\n",
    "    for k,v in params().items():\n",
    "        print(\"{}: {}\".format(k,v))"
   ]
  },
  {
   "cell_type": "markdown",
   "metadata": {},
   "source": [
    "## No initial issuance"
   ]
  },
  {
   "cell_type": "code",
   "execution_count": 2,
   "metadata": {},
   "outputs": [
    {
     "name": "stdout",
     "output_type": "stream",
     "text": [
      "n_users: 10000\n",
      "n_miners_max: 100\n",
      "init_issue: False\n",
      "reward_dist: False\n",
      "reward: 100.0\n",
      "greed_factor: 0.05\n",
      "\n",
      "Gini Coefficient: 0.00\n"
     ]
    },
    {
     "data": {
      "text/html": [
       "<div>\n",
       "<style>\n",
       "    .dataframe thead tr:only-child th {\n",
       "        text-align: right;\n",
       "    }\n",
       "\n",
       "    .dataframe thead th {\n",
       "        text-align: left;\n",
       "    }\n",
       "\n",
       "    .dataframe tbody tr th {\n",
       "        vertical-align: top;\n",
       "    }\n",
       "</style>\n",
       "<table border=\"1\" class=\"dataframe\">\n",
       "  <thead>\n",
       "    <tr style=\"text-align: right;\">\n",
       "      <th></th>\n",
       "      <th>address</th>\n",
       "      <th>greedy</th>\n",
       "      <th>miner</th>\n",
       "      <th>values</th>\n",
       "    </tr>\n",
       "  </thead>\n",
       "  <tbody>\n",
       "    <tr>\n",
       "      <th>0</th>\n",
       "      <td>5JVZPjqp5qfDcxVRJLLtiU3oStKBD8v1XF5NFvAZ6ekTYZ...</td>\n",
       "      <td>False</td>\n",
       "      <td>False</td>\n",
       "      <td>0.0</td>\n",
       "    </tr>\n",
       "    <tr>\n",
       "      <th>1</th>\n",
       "      <td>5K6PoNUGBmHctrwNtz1UqiBeuMmGwNCmTCzvrYWwoYDAN5...</td>\n",
       "      <td>False</td>\n",
       "      <td>False</td>\n",
       "      <td>0.0</td>\n",
       "    </tr>\n",
       "    <tr>\n",
       "      <th>2</th>\n",
       "      <td>5KJqkWLXLUgQCJK7ytcLXTd8CHPVNz2taHmTxhqebGjwmb...</td>\n",
       "      <td>False</td>\n",
       "      <td>False</td>\n",
       "      <td>0.0</td>\n",
       "    </tr>\n",
       "    <tr>\n",
       "      <th>3</th>\n",
       "      <td>5JMz2W2CDzB3RSqcJLj64P8Eoc7etY6To3pNXJ7NF9ozom...</td>\n",
       "      <td>False</td>\n",
       "      <td>False</td>\n",
       "      <td>0.0</td>\n",
       "    </tr>\n",
       "    <tr>\n",
       "      <th>4</th>\n",
       "      <td>5JcRw3FUunsoXvFbHu5pqnZQbVgJY9BhBwx8Kws5hgVVnY...</td>\n",
       "      <td>False</td>\n",
       "      <td>False</td>\n",
       "      <td>0.0</td>\n",
       "    </tr>\n",
       "  </tbody>\n",
       "</table>\n",
       "</div>"
      ],
      "text/plain": [
       "                                             address  greedy  miner  values\n",
       "0  5JVZPjqp5qfDcxVRJLLtiU3oStKBD8v1XF5NFvAZ6ekTYZ...   False  False     0.0\n",
       "1  5K6PoNUGBmHctrwNtz1UqiBeuMmGwNCmTCzvrYWwoYDAN5...   False  False     0.0\n",
       "2  5KJqkWLXLUgQCJK7ytcLXTd8CHPVNz2taHmTxhqebGjwmb...   False  False     0.0\n",
       "3  5JMz2W2CDzB3RSqcJLj64P8Eoc7etY6To3pNXJ7NF9ozom...   False  False     0.0\n",
       "4  5JcRw3FUunsoXvFbHu5pqnZQbVgJY9BhBwx8Kws5hgVVnY...   False  False     0.0"
      ]
     },
     "execution_count": 2,
     "metadata": {},
     "output_type": "execute_result"
    }
   ],
   "source": [
    "b = Balances(**config['default'])\n",
    "print_params(b.params)\n",
    "print(\"\\nGini Coefficient: {:0.2f}\".format(b.gini()))\n",
    "b.data.head()"
   ]
  },
  {
   "cell_type": "markdown",
   "metadata": {},
   "source": [
    "## Fair initial issuance"
   ]
  },
  {
   "cell_type": "code",
   "execution_count": 3,
   "metadata": {},
   "outputs": [
    {
     "name": "stdout",
     "output_type": "stream",
     "text": [
      "n_users: 10000\n",
      "n_miners_max: 100\n",
      "init_issue: True\n",
      "reward_dist: False\n",
      "reward: 100.0\n",
      "greed_factor: 0.05\n",
      "init_issue_total: 100000.0\n",
      "init_issue_max: 500.0\n",
      "init_issue_users: 9900\n",
      "\n",
      "Gini Coefficient: 0.49\n"
     ]
    },
    {
     "data": {
      "text/html": [
       "<div>\n",
       "<style>\n",
       "    .dataframe thead tr:only-child th {\n",
       "        text-align: right;\n",
       "    }\n",
       "\n",
       "    .dataframe thead th {\n",
       "        text-align: left;\n",
       "    }\n",
       "\n",
       "    .dataframe tbody tr th {\n",
       "        vertical-align: top;\n",
       "    }\n",
       "</style>\n",
       "<table border=\"1\" class=\"dataframe\">\n",
       "  <thead>\n",
       "    <tr style=\"text-align: right;\">\n",
       "      <th></th>\n",
       "      <th>address</th>\n",
       "      <th>greedy</th>\n",
       "      <th>miner</th>\n",
       "      <th>values</th>\n",
       "    </tr>\n",
       "  </thead>\n",
       "  <tbody>\n",
       "    <tr>\n",
       "      <th>0</th>\n",
       "      <td>5JcqVqRm6j8c7gKDycSJGDdgpDgATnUZRF6qMsjwxr2538...</td>\n",
       "      <td>False</td>\n",
       "      <td>False</td>\n",
       "      <td>16.814728</td>\n",
       "    </tr>\n",
       "    <tr>\n",
       "      <th>1</th>\n",
       "      <td>5JWGxoo4AabnU4KZow5JwmgXJ9pdNkm6MmqajT5q1G4Aj8...</td>\n",
       "      <td>False</td>\n",
       "      <td>False</td>\n",
       "      <td>1.927866</td>\n",
       "    </tr>\n",
       "    <tr>\n",
       "      <th>2</th>\n",
       "      <td>5Ht6NQfNSwj46a8r5apB1Tg7aUSV2xCcGMCYW4vbBUeAKt...</td>\n",
       "      <td>False</td>\n",
       "      <td>False</td>\n",
       "      <td>21.579394</td>\n",
       "    </tr>\n",
       "    <tr>\n",
       "      <th>3</th>\n",
       "      <td>5KcP6jAFjtwUKZAzYnmjKHghwSUJX6pfLMHLgFwDDrNuMz...</td>\n",
       "      <td>False</td>\n",
       "      <td>False</td>\n",
       "      <td>20.600682</td>\n",
       "    </tr>\n",
       "    <tr>\n",
       "      <th>4</th>\n",
       "      <td>5JTqjHmde4H38teid8rucuVLTYVRweTPkgv24S7KWKfXLT...</td>\n",
       "      <td>True</td>\n",
       "      <td>False</td>\n",
       "      <td>8.003907</td>\n",
       "    </tr>\n",
       "  </tbody>\n",
       "</table>\n",
       "</div>"
      ],
      "text/plain": [
       "                                             address  greedy  miner     values\n",
       "0  5JcqVqRm6j8c7gKDycSJGDdgpDgATnUZRF6qMsjwxr2538...   False  False  16.814728\n",
       "1  5JWGxoo4AabnU4KZow5JwmgXJ9pdNkm6MmqajT5q1G4Aj8...   False  False   1.927866\n",
       "2  5Ht6NQfNSwj46a8r5apB1Tg7aUSV2xCcGMCYW4vbBUeAKt...   False  False  21.579394\n",
       "3  5KcP6jAFjtwUKZAzYnmjKHghwSUJX6pfLMHLgFwDDrNuMz...   False  False  20.600682\n",
       "4  5JTqjHmde4H38teid8rucuVLTYVRweTPkgv24S7KWKfXLT...    True  False   8.003907"
      ]
     },
     "execution_count": 3,
     "metadata": {},
     "output_type": "execute_result"
    }
   ],
   "source": [
    "b = Balances(**config['init_issue_fair_greedy'])\n",
    "print_params(b.params)\n",
    "print(\"\\nGini Coefficient: {:0.2f}\".format(b.gini()))\n",
    "b.data.head()"
   ]
  },
  {
   "cell_type": "markdown",
   "metadata": {},
   "source": [
    "## Real initial issuance"
   ]
  },
  {
   "cell_type": "code",
   "execution_count": null,
   "metadata": {},
   "outputs": [
    {
     "name": "stdout",
     "output_type": "stream",
     "text": [
      "n_users: 10000\n",
      "n_miners_max: 100\n",
      "init_issue: True\n",
      "reward_dist: False\n",
      "reward: 100.0\n",
      "greed_factor: 0.05\n",
      "init_issue_total: 100000.0\n",
      "init_issue_max: 50000.0\n",
      "init_issue_users: 10000\n",
      "\n",
      "Gini Coefficient: 0.48\n"
     ]
    },
    {
     "data": {
      "text/html": [
       "<div>\n",
       "<style>\n",
       "    .dataframe thead tr:only-child th {\n",
       "        text-align: right;\n",
       "    }\n",
       "\n",
       "    .dataframe thead th {\n",
       "        text-align: left;\n",
       "    }\n",
       "\n",
       "    .dataframe tbody tr th {\n",
       "        vertical-align: top;\n",
       "    }\n",
       "</style>\n",
       "<table border=\"1\" class=\"dataframe\">\n",
       "  <thead>\n",
       "    <tr style=\"text-align: right;\">\n",
       "      <th></th>\n",
       "      <th>address</th>\n",
       "      <th>greedy</th>\n",
       "      <th>miner</th>\n",
       "      <th>values</th>\n",
       "    </tr>\n",
       "  </thead>\n",
       "  <tbody>\n",
       "    <tr>\n",
       "      <th>0</th>\n",
       "      <td>5KA4VhUWb1edtZiAyDTWypkyihhwzegoiMtcY7Bjjrvdw8...</td>\n",
       "      <td>False</td>\n",
       "      <td>False</td>\n",
       "      <td>4.197868</td>\n",
       "    </tr>\n",
       "    <tr>\n",
       "      <th>1</th>\n",
       "      <td>5JAyoC1tEDRUZk3bf7oftVkjZgSqiGLCSUdEnoAcRPjQy1...</td>\n",
       "      <td>True</td>\n",
       "      <td>True</td>\n",
       "      <td>8.018961</td>\n",
       "    </tr>\n",
       "    <tr>\n",
       "      <th>2</th>\n",
       "      <td>5Kdxh8JDwAHuTXBjVEziqdrMFNDzhQ4ghDVCusXJQgLLap...</td>\n",
       "      <td>False</td>\n",
       "      <td>False</td>\n",
       "      <td>2.948152</td>\n",
       "    </tr>\n",
       "    <tr>\n",
       "      <th>3</th>\n",
       "      <td>5HrMtPJvxJMYS5KKW62fPLxG1oXXUUWriuG288eoRKnnCd...</td>\n",
       "      <td>False</td>\n",
       "      <td>False</td>\n",
       "      <td>5.753917</td>\n",
       "    </tr>\n",
       "    <tr>\n",
       "      <th>4</th>\n",
       "      <td>5J438fuing3YSjE84c77oneZ1TfSQFCV9VcS7dgffYTTYQ...</td>\n",
       "      <td>False</td>\n",
       "      <td>False</td>\n",
       "      <td>2.396796</td>\n",
       "    </tr>\n",
       "  </tbody>\n",
       "</table>\n",
       "</div>"
      ],
      "text/plain": [
       "                                             address  greedy  miner    values\n",
       "0  5KA4VhUWb1edtZiAyDTWypkyihhwzegoiMtcY7Bjjrvdw8...   False  False  4.197868\n",
       "1  5JAyoC1tEDRUZk3bf7oftVkjZgSqiGLCSUdEnoAcRPjQy1...    True   True  8.018961\n",
       "2  5Kdxh8JDwAHuTXBjVEziqdrMFNDzhQ4ghDVCusXJQgLLap...   False  False  2.948152\n",
       "3  5HrMtPJvxJMYS5KKW62fPLxG1oXXUUWriuG288eoRKnnCd...   False  False  5.753917\n",
       "4  5J438fuing3YSjE84c77oneZ1TfSQFCV9VcS7dgffYTTYQ...   False  False  2.396796"
      ]
     },
     "execution_count": 4,
     "metadata": {},
     "output_type": "execute_result"
    }
   ],
   "source": [
    "config = ConfigDict().parse()\n",
    "b = Balances(**config['init_issue_real_greedy'])\n",
    "print_params(b.params)\n",
    "print(\"\\nGini Coefficient: {:0.2f}\".format(b.gini()))\n",
    "b.data.head()"
   ]
  },
  {
   "cell_type": "markdown",
   "metadata": {},
   "source": [
    "## Simulation experiments"
   ]
  },
  {
   "cell_type": "code",
   "execution_count": null,
   "metadata": {},
   "outputs": [],
   "source": [
    "fig, axs = plt.subplots(2,3)\n",
    "exp_states = {'default': \"No initial issuance\",\n",
    "              'no_greed': \"No initial issuance, with greed\",\n",
    "              'init_issue_fair_greedy': \"Fair initial issuance, with greed\",\n",
    "              'init_issue_fair_alt': \"Fair inital issuance, no greed\",\n",
    "              'init_issue_real_greedy': \"Real initial issuance, with greed\", \n",
    "              'init_issue_real_alt' : \"Fair initial issuance, no greed\" }\n",
    "g = []\n",
    "\n",
    "for exp_key in exp_states.keys():\n",
    "    s = Simulation(balances=Balances(**config[exp_key]))\n",
    "    g_data = s.simulate()\n",
    "    g.append(s.simulate())\n",
    "    print(\"{}\\t{}\".format(exp_states[exp_key], mean(g_data)))"
   ]
  },
  {
   "cell_type": "code",
   "execution_count": null,
   "metadata": {
    "collapsed": true
   },
   "outputs": [],
   "source": [
    "for x, ax in zip(g, axs):\n",
    "    ax.hist(g= bins=np.arange(0.,1.,0.05))"
   ]
  }
 ],
 "metadata": {
  "kernelspec": {
   "display_name": "Python 3",
   "language": "python",
   "name": "python3"
  },
  "language_info": {
   "codemirror_mode": {
    "name": "ipython",
    "version": 3
   },
   "file_extension": ".py",
   "mimetype": "text/x-python",
   "name": "python",
   "nbconvert_exporter": "python",
   "pygments_lexer": "ipython3",
   "version": "3.6.1"
  }
 },
 "nbformat": 4,
 "nbformat_minor": 2
}
