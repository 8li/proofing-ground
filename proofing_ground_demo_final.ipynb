{
 "cells": [
  {
   "cell_type": "code",
   "execution_count": 1,
   "metadata": {
    "collapsed": true
   },
   "outputs": [],
   "source": [
    "%load_ext autoreload\n",
    "%autoreload 2\n",
    "\n",
    "import sys\n",
    "import json\n",
    "sys.path.append('code/')\n",
    "\n",
    "import numpy as np\n",
    "import pandas as pd\n",
    "import matplotlib\n",
    "import matplotlib.pyplot as plt\n",
    "\n",
    "import os, binascii, hashlib, base58\n",
    "\n",
    "from parse_config import ConfigDict\n",
    "from balances import Balances\n",
    "from simulation import Simulation\n",
    "\n",
    "pd.set_option('display.max_rows', 20)\n",
    "\n",
    "config = ConfigDict().parse()\n",
    "\n",
    "def print_params(params):\n",
    "    for k,v in params().items():\n",
    "        print(\"{}: {}\".format(k,v))"
   ]
  },
  {
   "cell_type": "markdown",
   "metadata": {},
   "source": [
    "## No initial issuance"
   ]
  },
  {
   "cell_type": "code",
   "execution_count": null,
   "metadata": {},
   "outputs": [],
   "source": [
    "b = Balances(**config['default'])\n",
    "print_params(b.params)\n",
    "print(\"\\nGini Coefficient: {:0.2f}\".format(b.gini()))\n",
    "b.data.head()"
   ]
  },
  {
   "cell_type": "markdown",
   "metadata": {},
   "source": [
    "## Fair initial issuance"
   ]
  },
  {
   "cell_type": "code",
   "execution_count": null,
   "metadata": {},
   "outputs": [],
   "source": [
    "b = Balances(**config['init_issue_fair_greedy'])\n",
    "print_params(b.params)\n",
    "print(\"\\nGini Coefficient: {:0.2f}\".format(b.gini()))\n",
    "b.data.head()"
   ]
  },
  {
   "cell_type": "markdown",
   "metadata": {},
   "source": [
    "## Real initial issuance"
   ]
  },
  {
   "cell_type": "code",
   "execution_count": null,
   "metadata": {},
   "outputs": [],
   "source": [
    "b = Balances(**config['init_issue_real_greedy'])\n",
    "print_params(b.params)\n",
    "print(\"\\nGini Coefficient: {:0.2f}\".format(b.gini()))\n",
    "b.data.head()"
   ]
  },
  {
   "cell_type": "markdown",
   "metadata": {},
   "source": [
    "## Simulation experiments on greed"
   ]
  },
  {
   "cell_type": "code",
   "execution_count": 2,
   "metadata": {
    "scrolled": false
   },
   "outputs": [
    {
     "name": "stdout",
     "output_type": "stream",
     "text": [
      "No initial issuance\t\t0.00000\t\t0.54520\t\t0.14151\n",
      "Distributed initial issuance\t\t0.49028\t\t0.56347\t\t0.14730\n",
      "Concentrated initial issuance\t\t0.94809\t\t0.56658\t\t0.15260\n"
     ]
    }
   ],
   "source": [
    "config = ConfigDict().parse()\n",
    "init_states = { 'default': \"No initial issuance\",\n",
    "                'init_issue_dist': \"Distributed initial issuance\",\n",
    "                'init_issue_conc': \"Concentrated initial issuance\" }\n",
    "greed_factor = { 'greedy': 0.05,\n",
    "                 'no_greed': 0, }\n",
    "\n",
    "g_all = {}\n",
    "g_init = []\n",
    "data = {}\n",
    "exps = []\n",
    "\n",
    "for init_key in init_states.keys():\n",
    "    s = Simulation(balances = Balances(**config[init_key]), **config[init_key])\n",
    "    g_init.append(s.balances.gini(initial=True) \n",
    "    \n",
    "    for greed_key in greed_factor.keys():\n",
    "        exp_key = '{}_{}'.format(init_key, greed_key)\n",
    "        exps.append(exp_key)\n",
    "        s.balances.greed_factor = greed_factor[greed_key]\n",
    "        s.balances.reinit()\n",
    "\n",
    "        # print_params(s.balances.params)\n",
    "        # print_params(s.params)\n",
    "        \n",
    "        (tx_data, g) = s.simulate()\n",
    "        \n",
    "        data[exp_key] = tx_data\n",
    "        g_all[exp_key] = g.copy()\n",
    "    \n",
    "    print(\"{}\\t\\t{:.5f}\\t\\t{:.5f}\\t\\t{:.5f}\".format(init_states[init_key], \n",
    "                                                    s.balances.gini(initial=True), \n",
    "                                                    np.mean(g_all['{}_greedy'.format(init_key)]), \n",
    "                                                    np.mean(g_all['{}_no_greed'.format(init_key)])))\n"
   ]
  },
  {
   "cell_type": "code",
   "execution_count": 3,
   "metadata": {},
   "outputs": [
    {
     "data": {
      "image/png": "[encoded data removed]",
      "text/plain": [
       "<matplotlib.figure.Figure at 0x1105f4a20>"
      ]
     },
     "metadata": {},
     "output_type": "display_data"
    }
   ],
   "source": [
    "# histograms of simulation results\n",
    "plt.close()\n",
    "fig, axs = plt.subplots(3,2)\n",
    "g_init = [ 0.0, 0.49028, 0.94809]\n",
    "\n",
    "for ax_row, g_i, init_key in zip(axs, g_init, init_states.keys()):\n",
    "    ax_row[0].set_ylabel(r'$N_{experiments}$')\n",
    "    for ax, greed_key in zip(ax_row, greed_factor.keys()):\n",
    "        exp = '{}_{}'.format(init_key, greed_key)\n",
    "        ax.hist(g_all[exp], bins=np.arange(0.,1.,0.05))\n",
    "        ax.set_title(exp)\n",
    "        ax.axvline(x=g_i, color='r')\n",
    "        \n",
    "# xlabels\n",
    "for ax in axs[2]:\n",
    "    ax.set_xlabel('Gini Coeff')\n",
    "    \n",
    "plt.tight_layout()\n",
    "plt.show()"
   ]
  }
 ],
 "metadata": {
  "kernelspec": {
   "display_name": "Python 3",
   "language": "python",
   "name": "python3"
  },
  "language_info": {
   "codemirror_mode": {
    "name": "ipython",
    "version": 3
   },
   "file_extension": ".py",
   "mimetype": "text/x-python",
   "name": "python",
   "nbconvert_exporter": "python",
   "pygments_lexer": "ipython3",
   "version": "3.6.1"
  }
 },
 "nbformat": 4,
 "nbformat_minor": 2
}
